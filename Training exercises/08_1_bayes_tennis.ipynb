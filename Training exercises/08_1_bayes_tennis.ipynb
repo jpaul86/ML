{
 "cells": [
  {
   "cell_type": "code",
   "execution_count": null,
   "id": "057a3ff7-ede4-43cc-a988-302dc6a00ad9",
   "metadata": {
    "jupyter": {
     "source_hidden": true
    },
    "tags": []
   },
   "outputs": [],
   "source": [
    "import pandas as pd\n",
    "import numpy as np\n",
    "\n",
    "from sklearn.preprocessing import OrdinalEncoder\n",
    "from sklearn.model_selection import GridSearchCV, RepeatedStratifiedKFold, StratifiedKFold, cross_validate\n",
    "from sklearn.pipeline import Pipeline\n",
    "\n",
    "from sklearn.naive_bayes import CategoricalNB, GaussianNB \n",
    "from sklearn.metrics import accuracy_score"
   ]
  },
  {
   "cell_type": "code",
   "execution_count": null,
   "id": "96abafd0-f7c2-4dd6-92fa-35cfa07daaa2",
   "metadata": {
    "jupyter": {
     "source_hidden": true
    }
   },
   "outputs": [],
   "source": [
    "df=pd.read_csv(\"data/play_tennis.csv\", sep=',')"
   ]
  },
  {
   "cell_type": "code",
   "execution_count": null,
   "id": "0bbe28cf-c6da-4cba-a57d-f7d97de2f1b6",
   "metadata": {
    "jupyter": {
     "source_hidden": true
    }
   },
   "outputs": [],
   "source": [
    "df"
   ]
  },
  {
   "cell_type": "code",
   "execution_count": null,
   "id": "5f3e92b0-f661-42ef-a613-948287e341d3",
   "metadata": {
    "jupyter": {
     "source_hidden": true
    }
   },
   "outputs": [],
   "source": [
    "df=df.drop(\"day\", axis='columns')\n",
    "X_df=df.drop(\"play\", axis='columns')\n",
    "y_df=df.loc[:, ['play']]\n",
    "\n",
    "X_raw=X_df.to_numpy()\n",
    "y_raw=y_df.to_numpy()"
   ]
  },
  {
   "cell_type": "code",
   "execution_count": null,
   "id": "48bf3ec4-fbd4-43f0-a5b9-f4807606c32c",
   "metadata": {
    "jupyter": {
     "source_hidden": true
    }
   },
   "outputs": [],
   "source": [
    "target_enc = OrdinalEncoder()\n",
    "y=target_enc.fit_transform(y_df)[:,-1]"
   ]
  },
  {
   "cell_type": "code",
   "execution_count": null,
   "id": "52e28e73-caa6-404e-a124-ade1a7c8dd16",
   "metadata": {
    "jupyter": {
     "source_hidden": true
    }
   },
   "outputs": [],
   "source": [
    "clf = Pipeline([('encoder', OrdinalEncoder()), ('classifier', CategoricalNB())])\n",
    "outer_cv = RepeatedStratifiedKFold(n_splits=3, n_repeats=10, random_state=1)\n",
    "cv_result=cross_validate(clf, X=X_raw, y=y, cv=outer_cv, scoring=(\"balanced_accuracy\"), n_jobs=8)\n",
    "print(f\"The mean balanced acc is {cv_result['test_score'].mean():.2f} with std {cv_result['test_score'].std():.2f}.\")"
   ]
  },
  {
   "cell_type": "code",
   "execution_count": null,
   "id": "4440a106-d26b-4fb9-82b3-d8776973db11",
   "metadata": {
    "jupyter": {
     "source_hidden": true
    }
   },
   "outputs": [],
   "source": [
    "clf.fit(X_raw, y)"
   ]
  },
  {
   "cell_type": "code",
   "execution_count": null,
   "id": "cec71340-adc5-4a65-942d-0ad50b74609b",
   "metadata": {
    "jupyter": {
     "source_hidden": true
    }
   },
   "outputs": [],
   "source": [
    "clf['classifier'].category_count_ #feature, class, category"
   ]
  },
  {
   "cell_type": "code",
   "execution_count": null,
   "id": "a11b62f4-8d80-46a2-b030-1bbf26304519",
   "metadata": {
    "jupyter": {
     "source_hidden": true
    }
   },
   "outputs": [],
   "source": [
    "new_instances=np.array([[\"Sunny\", \"Hot\", \"High\", \"Strong\"],[\"Overcast\", \"Hot\", \"High\", \"Strong\"]])"
   ]
  },
  {
   "cell_type": "code",
   "execution_count": null,
   "id": "4bf2340b-bae8-4dc2-a168-f1d7849d808d",
   "metadata": {
    "jupyter": {
     "source_hidden": true
    }
   },
   "outputs": [],
   "source": [
    "pred=clf.predict(new_instances)\n",
    "pred"
   ]
  },
  {
   "cell_type": "code",
   "execution_count": null,
   "id": "550f2c9a-df17-4c94-8f91-c2a63bc9f5b4",
   "metadata": {
    "jupyter": {
     "source_hidden": true
    }
   },
   "outputs": [],
   "source": [
    "target_enc.inverse_transform(pred.reshape(-1,1))"
   ]
  },
  {
   "cell_type": "code",
   "execution_count": null,
   "id": "98e32daf-b24c-4fa0-a3c8-52d10cb13bf6",
   "metadata": {
    "jupyter": {
     "source_hidden": true
    }
   },
   "outputs": [],
   "source": [
    "probas = clf.predict_proba(new_instances)\n",
    "probas"
   ]
  }
 ],
 "metadata": {
  "kernelspec": {
   "display_name": "mads_ml_env",
   "language": "python",
   "name": "mads_ml_env"
  },
  "language_info": {
   "codemirror_mode": {
    "name": "ipython",
    "version": 3
   },
   "file_extension": ".py",
   "mimetype": "text/x-python",
   "name": "python",
   "nbconvert_exporter": "python",
   "pygments_lexer": "ipython3",
   "version": "3.9.4"
  }
 },
 "nbformat": 4,
 "nbformat_minor": 5
}
