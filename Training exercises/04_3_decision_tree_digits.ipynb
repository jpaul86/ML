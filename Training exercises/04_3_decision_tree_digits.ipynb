{
 "cells": [
  {
   "cell_type": "markdown",
   "id": "e73dbf7a-550e-4e56-96c6-083b32d82ffe",
   "metadata": {},
   "source": [
    "## Data Acquisition"
   ]
  },
  {
   "cell_type": "code",
   "execution_count": 1,
   "id": "9ebdbf56-ef2d-457c-b9a3-897d18933fcd",
   "metadata": {},
   "outputs": [],
   "source": [
    "from sklearn import datasets, tree, metrics\n",
    "from sklearn.model_selection import train_test_split\n",
    "\n",
    "import matplotlib.pyplot as plt\n",
    "\n",
    "digits = datasets.load_digits()\n",
    "raw_data = digits.images\n",
    "target = digits.target"
   ]
  },
  {
   "cell_type": "markdown",
   "id": "6180becf-9fa0-4bd4-940d-cae444ae526a",
   "metadata": {},
   "source": [
    "## Initial Data Analysis"
   ]
  },
  {
   "cell_type": "code",
   "execution_count": 2,
   "id": "ef73be90-cbea-4bfe-84e0-cab2e591875e",
   "metadata": {},
   "outputs": [
    {
     "name": "stdout",
     "output_type": "stream",
     "text": [
      "Dataset type: <class 'numpy.ndarray'>\n",
      "Target type: <class 'numpy.ndarray'>\n",
      "Dataset shape: (1797, 8, 8)\n",
      "Target shape: (1797,)\n"
     ]
    }
   ],
   "source": [
    "print(f'Dataset type: {type(raw_data)}')\n",
    "print(f'Target type: {type(target)}')\n",
    "print(f'Dataset shape: {raw_data.shape}')\n",
    "print(f'Target shape: {target.shape}')"
   ]
  },
  {
   "cell_type": "code",
   "execution_count": 3,
   "id": "0f730e8e-dbad-4403-b8b9-88525706412f",
   "metadata": {},
   "outputs": [
    {
     "data": {
      "image/png": "[encoded data removed]",
      "text/plain": [
       "<Figure size 720x216 with 20 Axes>"
      ]
     },
     "metadata": {
      "needs_background": "light"
     },
     "output_type": "display_data"
    }
   ],
   "source": [
    "_, axes = plt.subplots(nrows=2, ncols=10, figsize=(10, 3))\n",
    "for ax, image, label in zip(axes.reshape(-1), raw_data, target):\n",
    "    ax.set_axis_off()\n",
    "    ax.imshow(image, cmap=plt.cm.gray_r)\n",
    "    ax.set_title('Target: %i' % label)\n",
    "\n"
   ]
  },
  {
   "cell_type": "markdown",
   "id": "6d7ea351-809b-4696-b6cf-9cc35ee0a3d7",
   "metadata": {},
   "source": [
    "## Setup Experiment"
   ]
  },
  {
   "cell_type": "markdown",
   "id": "f1710f99-7608-4d27-80de-a4499105bd9e",
   "metadata": {},
   "source": [
    "### Preprocessing Data\n",
    "Adapt the data to be manageable by the algorithms we want to use "
   ]
  },
  {
   "cell_type": "code",
   "execution_count": 4,
   "id": "cdd89777-75fb-4e96-a6a0-4776c2f256b2",
   "metadata": {},
   "outputs": [
    {
     "data": {
      "text/plain": [
       "(1797, 64)"
      ]
     },
     "execution_count": 4,
     "metadata": {},
     "output_type": "execute_result"
    }
   ],
   "source": [
    "data = raw_data.reshape((len(raw_data), -1))\n",
    "data.shape # first dimension as before, second and third have been reshaped"
   ]
  },
  {
   "cell_type": "markdown",
   "id": "125c6ad9-7462-4244-ad2c-af3ee17ef2c5",
   "metadata": {},
   "source": [
    "### Split data 2 ways\n",
    "Create training, test, and validation data"
   ]
  },
  {
   "cell_type": "code",
   "execution_count": 5,
   "id": "a37d7943-e616-4f20-a9aa-5b7ba178631e",
   "metadata": {},
   "outputs": [],
   "source": [
    "X_train, X_test, y_train, y_test = train_test_split(data, target, test_size=0.4, shuffle=True, stratify=target, random_state=42)"
   ]
  },
  {
   "cell_type": "code",
   "execution_count": 6,
   "id": "915e0647-b714-4b3a-ba43-3e4963276a27",
   "metadata": {},
   "outputs": [
    {
     "name": "stdout",
     "output_type": "stream",
     "text": [
      "(1078, 64) (1078,) (719, 64) (719,)\n"
     ]
    }
   ],
   "source": [
    "print(X_train.shape, y_train.shape, X_test.shape, y_test.shape)"
   ]
  },
  {
   "cell_type": "markdown",
   "id": "5b0db0a8-5db0-4afb-a2b2-dac4465c97f3",
   "metadata": {},
   "source": [
    "## Training (Machine Learning)"
   ]
  },
  {
   "cell_type": "code",
   "execution_count": 7,
   "id": "3bb951cf-8158-4bef-b103-32526cae6136",
   "metadata": {},
   "outputs": [
    {
     "data": {
      "text/plain": [
       "DecisionTreeClassifier(random_state=1)"
      ]
     },
     "execution_count": 7,
     "metadata": {},
     "output_type": "execute_result"
    }
   ],
   "source": [
    "clf = tree.DecisionTreeClassifier(criterion='gini', random_state=1)\n",
    "\n",
    "# Train the classifier\n",
    "clf.fit(X_train, y_train)"
   ]
  },
  {
   "cell_type": "markdown",
   "id": "f1f84b10-36c0-457c-9773-50111c40680f",
   "metadata": {},
   "source": [
    "## Evaluation\n",
    "* Classify data instances, that the classifier did __not__ see during the training phase\n",
    "* Check how many are classified correctly"
   ]
  },
  {
   "cell_type": "code",
   "execution_count": 8,
   "id": "2dcbe042-ec60-45fe-aaf3-7ec98764de0a",
   "metadata": {},
   "outputs": [],
   "source": [
    "y_test_pred = clf.predict(X_test)"
   ]
  },
  {
   "cell_type": "code",
   "execution_count": 9,
   "id": "52eb79b5-9dd1-4486-9d4c-a02b6b4933dd",
   "metadata": {},
   "outputs": [
    {
     "data": {
      "image/png": "[encoded data removed]",
      "text/plain": [
       "<Figure size 720x216 with 10 Axes>"
      ]
     },
     "metadata": {
      "needs_background": "light"
     },
     "output_type": "display_data"
    }
   ],
   "source": [
    "_, axes = plt.subplots(nrows=1, ncols=10, figsize=(10, 3))\n",
    "for ax, image, prediction, actual in zip(axes, X_test, y_test_pred, y_test):\n",
    "    ax.set_axis_off()\n",
    "    image = image.reshape(8, 8)\n",
    "    ax.imshow(image, cmap=plt.cm.gray_r, interpolation='nearest')\n",
    "    ax.set_title(f'Pred.: {prediction},\\n Actual: {actual}')"
   ]
  },
  {
   "cell_type": "code",
   "execution_count": 10,
   "id": "6b7043dd-382e-4ed6-b078-2f011b90c0b7",
   "metadata": {},
   "outputs": [
    {
     "data": {
      "text/plain": [
       "0.84006"
      ]
     },
     "execution_count": 10,
     "metadata": {},
     "output_type": "execute_result"
    }
   ],
   "source": [
    "round(metrics.accuracy_score(y_test, y_test_pred),5)"
   ]
  },
  {
   "cell_type": "code",
   "execution_count": 11,
   "id": "6c964766-b647-48a5-83f8-fb1b1a89b145",
   "metadata": {},
   "outputs": [
    {
     "name": "stdout",
     "output_type": "stream",
     "text": [
      "13\n",
      "123\n"
     ]
    }
   ],
   "source": [
    "print(clf.get_depth())\n",
    "print(clf.get_n_leaves())"
   ]
  },
  {
   "cell_type": "code",
   "execution_count": 12,
   "id": "288e1661-7dcf-452f-bd18-e21480e25ffd",
   "metadata": {},
   "outputs": [
    {
     "name": "stdout",
     "output_type": "stream",
     "text": [
      "1 0.1933240611961057\n",
      "2 0.3157162726008345\n",
      "3 0.48400556328233657\n",
      "4 0.5841446453407511\n",
      "5 0.6870653685674548\n",
      "6 0.7579972183588317\n",
      "7 0.8178025034770514\n",
      "8 0.8164116828929068\n",
      "9 0.8317107093184979\n",
      "10 0.847009735744089\n",
      "11 0.8386648122392212\n",
      "12 0.8358831710709318\n",
      "13 0.8400556328233658\n",
      "14 0.8400556328233658\n",
      "15 0.8400556328233658\n",
      "16 0.8400556328233658\n",
      "17 0.8400556328233658\n",
      "18 0.8400556328233658\n",
      "19 0.8400556328233658\n"
     ]
    }
   ],
   "source": [
    "accuracies=[]\n",
    "for k in range(1,20):\n",
    "    clf = tree.DecisionTreeClassifier(criterion='gini', random_state=1, max_depth=k)\n",
    "    clf.fit(X_train, y_train)\n",
    "    y_test_pred = clf.predict(X_test)\n",
    "    acc=metrics.accuracy_score(y_test, y_test_pred)\n",
    "    print(k, acc)\n",
    "    accuracies.append(acc)"
   ]
  },
  {
   "cell_type": "code",
   "execution_count": 13,
   "id": "a4fbfa1e-ba4a-4e60-b2f2-226bfea49c1e",
   "metadata": {},
   "outputs": [
    {
     "data": {
      "text/plain": [
       "[<matplotlib.lines.Line2D at 0x7ff319505280>]"
      ]
     },
     "execution_count": 13,
     "metadata": {},
     "output_type": "execute_result"
    },
    {
     "data": {
      "image/png": "[encoded data removed]",
      "text/plain": [
       "<Figure size 432x288 with 1 Axes>"
      ]
     },
     "metadata": {
      "needs_background": "light"
     },
     "output_type": "display_data"
    }
   ],
   "source": [
    "plt.plot(range(1,20), accuracies)"
   ]
  },
  {
   "cell_type": "markdown",
   "id": "f799f7f6-7d95-4dbb-8461-262fb8339acb",
   "metadata": {},
   "source": [
    "The best tree length in this case is 10. "
   ]
  },
  {
   "cell_type": "markdown",
   "id": "56aa9306-cc60-4488-b32c-ae09c74ea518",
   "metadata": {},
   "source": [
    "__NOTE__: This evaluation is preliminary (at best). To properly determine the best tree length we would usually use procedures with repetition (to smooth effects of random choices) and different datasets, i.e. different splits of the training data."
   ]
  },
  {
   "cell_type": "code",
   "execution_count": null,
   "id": "ab3d08c4-5d76-4c47-a498-018634f9058f",
   "metadata": {},
   "outputs": [],
   "source": []
  }
 ],
 "metadata": {
  "kernelspec": {
   "display_name": "mads_ml_env",
   "language": "python",
   "name": "mads_ml_env"
  },
  "language_info": {
   "codemirror_mode": {
    "name": "ipython",
    "version": 3
   },
   "file_extension": ".py",
   "mimetype": "text/x-python",
   "name": "python",
   "nbconvert_exporter": "python",
   "pygments_lexer": "ipython3",
   "version": "3.9.4"
  }
 },
 "nbformat": 4,
 "nbformat_minor": 5
}
