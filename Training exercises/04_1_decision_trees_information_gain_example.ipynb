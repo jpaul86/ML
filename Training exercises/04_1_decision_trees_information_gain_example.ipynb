{
 "cells": [
  {
   "cell_type": "markdown",
   "id": "ff1ed471-85c8-41cc-a63c-4aa436bb7fa5",
   "metadata": {},
   "source": [
    "This is an examplary computation for using the tennis dataset with decision trees. \n",
    "The goal is to compute the split strategy for the first split of the data. \n",
    "Either we split using humidity, or we split using wind."
   ]
  },
  {
   "cell_type": "code",
   "execution_count": 1,
   "id": "264197f3-e651-4ea6-bee2-931d3bfdb665",
   "metadata": {},
   "outputs": [],
   "source": [
    "import math"
   ]
  },
  {
   "cell_type": "markdown",
   "id": "7a6d6828-f816-4f88-87c5-ea4e32cb508c",
   "metadata": {},
   "source": [
    "Compute the entropy of the root node (full dataset): 5xNo, 9x"
   ]
  },
  {
   "cell_type": "code",
   "execution_count": 2,
   "id": "c0821d22-a39a-4fb9-b77e-f51e027aebf7",
   "metadata": {},
   "outputs": [
    {
     "data": {
      "text/plain": [
       "0.9402859586706309"
      ]
     },
     "execution_count": 2,
     "metadata": {},
     "output_type": "execute_result"
    }
   ],
   "source": [
    "entropy_start=-( 5/14*math.log(5/14,2) + 9/14*math.log(9/14,2) )\n",
    "entropy_start"
   ]
  },
  {
   "cell_type": "markdown",
   "id": "0834c9b6-8761-43a5-96b3-9e0fa4bae396",
   "metadata": {},
   "source": [
    "## Split 1\n",
    "Lets evaluate a possible split by humidity (2 nodes, high and normal)"
   ]
  },
  {
   "cell_type": "markdown",
   "id": "893a1586-3e1f-45e2-b1af-d6b31f55b77c",
   "metadata": {},
   "source": [
    " Humidity high: 4xNo, 3xYes"
   ]
  },
  {
   "cell_type": "code",
   "execution_count": 3,
   "id": "deb5c128-b8c1-4e0d-ad22-e7ca85831922",
   "metadata": {},
   "outputs": [
    {
     "data": {
      "text/plain": [
       "0.9852281360342516"
      ]
     },
     "execution_count": 3,
     "metadata": {},
     "output_type": "execute_result"
    }
   ],
   "source": [
    "ent_hum_high=-( 4/7*math.log(4/7,2) + 3/7*math.log(3/7,2) )\n",
    "ent_hum_high"
   ]
  },
  {
   "cell_type": "markdown",
   "id": "993f448a-5ecc-463a-93ec-33e570b98a93",
   "metadata": {},
   "source": [
    "Humidity normal: 1xNo, 6xYes"
   ]
  },
  {
   "cell_type": "code",
   "execution_count": 4,
   "id": "b71ca2af-ca5b-4205-81df-9794ddc35ebb",
   "metadata": {},
   "outputs": [
    {
     "data": {
      "text/plain": [
       "0.5916727785823275"
      ]
     },
     "execution_count": 4,
     "metadata": {},
     "output_type": "execute_result"
    }
   ],
   "source": [
    "ent_hum_normal=-( 1/7*math.log(1/7,2)+6/7*math.log(6/7,2) )\n",
    "ent_hum_normal"
   ]
  },
  {
   "cell_type": "markdown",
   "id": "443bc2f2-b5f2-4531-997f-f8860f585842",
   "metadata": {},
   "source": [
    "Compute the weighted average for the split by humidity"
   ]
  },
  {
   "cell_type": "code",
   "execution_count": 5,
   "id": "1d360bb4-58b0-4157-b60d-595468d00ede",
   "metadata": {},
   "outputs": [
    {
     "data": {
      "text/plain": [
       "0.7884504573082896"
      ]
     },
     "execution_count": 5,
     "metadata": {},
     "output_type": "execute_result"
    }
   ],
   "source": [
    "avg_hum_ent=7/14*ent_hum_high + 7/14*ent_hum_normal\n",
    "avg_hum_ent"
   ]
  },
  {
   "cell_type": "markdown",
   "id": "4a097744-8f8d-49d0-b1ea-0c0b53948a81",
   "metadata": {},
   "source": [
    "Thus, the information gain for splitting by humidity is: "
   ]
  },
  {
   "cell_type": "code",
   "execution_count": 6,
   "id": "42fbc2c5-04d7-45ad-ac42-9739d4490aac",
   "metadata": {},
   "outputs": [
    {
     "data": {
      "text/plain": [
       "0.15183550136234136"
      ]
     },
     "execution_count": 6,
     "metadata": {},
     "output_type": "execute_result"
    }
   ],
   "source": [
    "ig_hum = entropy_start-avg_hum_ent\n",
    "ig_hum"
   ]
  },
  {
   "cell_type": "markdown",
   "id": "00a857f2-06b1-4b28-88d3-285e3c99aaf8",
   "metadata": {},
   "source": [
    "## Split 2\n",
    "Lets evaluate a possible split by wind (2 nodes, weak and strong)"
   ]
  },
  {
   "cell_type": "markdown",
   "id": "034d0898-c4c8-4210-824f-25db6347b85b",
   "metadata": {},
   "source": [
    "Wind weak: 2xNo, 8xYes"
   ]
  },
  {
   "cell_type": "code",
   "execution_count": 7,
   "id": "704e7240-ff98-4321-814f-520a935ae04a",
   "metadata": {},
   "outputs": [
    {
     "data": {
      "text/plain": [
       "0.8112781244591328"
      ]
     },
     "execution_count": 7,
     "metadata": {},
     "output_type": "execute_result"
    }
   ],
   "source": [
    "ent_wind_weak=-( 2/8*math.log(2/8,2)+6/8*math.log(6/8,2) )\n",
    "ent_wind_weak"
   ]
  },
  {
   "cell_type": "markdown",
   "id": "f1d161e3-71d0-47b7-a95d-8560bacb3fd7",
   "metadata": {},
   "source": [
    "Wind strong: 3xNo, 3xYes"
   ]
  },
  {
   "cell_type": "code",
   "execution_count": 8,
   "id": "3a2d7c3f-9c96-4965-99a4-86efca81e08e",
   "metadata": {},
   "outputs": [
    {
     "data": {
      "text/plain": [
       "1.0"
      ]
     },
     "execution_count": 8,
     "metadata": {},
     "output_type": "execute_result"
    }
   ],
   "source": [
    "ent_wind_strong=-( 3/6*math.log(3/6,2)+3/6*math.log(3/6,2) )\n",
    "ent_wind_strong"
   ]
  },
  {
   "cell_type": "markdown",
   "id": "2a081dac-4ef4-4a32-9343-4a4c77673618",
   "metadata": {},
   "source": [
    "Compute the weighted average for the split by wind"
   ]
  },
  {
   "cell_type": "code",
   "execution_count": 9,
   "id": "773eb48b-43a8-4e3d-a354-bf052e658408",
   "metadata": {},
   "outputs": [
    {
     "data": {
      "text/plain": [
       "0.8921589282623617"
      ]
     },
     "execution_count": 9,
     "metadata": {},
     "output_type": "execute_result"
    }
   ],
   "source": [
    "avg_wind_ent=8/14*ent_wind_weak + 6/14*ent_wind_strong\n",
    "avg_wind_ent"
   ]
  },
  {
   "cell_type": "markdown",
   "id": "5a15dd45-4f92-435f-aff8-3b70958857df",
   "metadata": {},
   "source": [
    "Thus, the information gain for splitting by wind is: "
   ]
  },
  {
   "cell_type": "code",
   "execution_count": 10,
   "id": "0f0a336b-ef7f-486d-bd23-32e41e2d02f9",
   "metadata": {},
   "outputs": [
    {
     "data": {
      "text/plain": [
       "0.04812703040826927"
      ]
     },
     "execution_count": 10,
     "metadata": {},
     "output_type": "execute_result"
    }
   ],
   "source": [
    "ig_wind = entropy_start-avg_wind_ent\n",
    "ig_wind"
   ]
  },
  {
   "cell_type": "markdown",
   "id": "f683cec4-f56c-4742-8497-f4d5284d80c9",
   "metadata": {},
   "source": [
    "## Conclusion"
   ]
  },
  {
   "cell_type": "code",
   "execution_count": 11,
   "id": "369ea4ce-0fbd-4830-b818-bd09e3706101",
   "metadata": {},
   "outputs": [
    {
     "data": {
      "text/plain": [
       "True"
      ]
     },
     "execution_count": 11,
     "metadata": {},
     "output_type": "execute_result"
    }
   ],
   "source": [
    "ig_hum > ig_wind"
   ]
  },
  {
   "cell_type": "markdown",
   "id": "39c8dae9-e657-46e5-91db-81d64e976949",
   "metadata": {},
   "source": [
    "A split by humidity has a higher information gain"
   ]
  },
  {
   "cell_type": "code",
   "execution_count": null,
   "id": "bc76f8ec-3161-4ac1-9276-7874d09ad2c6",
   "metadata": {},
   "outputs": [],
   "source": []
  }
 ],
 "metadata": {
  "kernelspec": {
   "display_name": "mads_ml_env",
   "language": "python",
   "name": "mads_ml_env"
  },
  "language_info": {
   "codemirror_mode": {
    "name": "ipython",
    "version": 3
   },
   "file_extension": ".py",
   "mimetype": "text/x-python",
   "name": "python",
   "nbconvert_exporter": "python",
   "pygments_lexer": "ipython3",
   "version": "3.9.4"
  }
 },
 "nbformat": 4,
 "nbformat_minor": 5
}
