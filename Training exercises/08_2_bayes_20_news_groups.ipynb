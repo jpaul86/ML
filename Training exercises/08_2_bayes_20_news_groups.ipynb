{
 "cells": [
  {
   "cell_type": "code",
   "execution_count": null,
   "id": "b4e0a746-a045-4a99-8a4d-2dc1af24b4b1",
   "metadata": {
    "jupyter": {
     "source_hidden": true
    },
    "tags": []
   },
   "outputs": [],
   "source": [
    "import numpy as np, pandas as pd\n",
    "import time\n",
    "\n",
    "from sklearn.datasets import fetch_20newsgroups\n",
    "from sklearn.feature_extraction.text import CountVectorizer\n",
    "from sklearn.naive_bayes import MultinomialNB, CategoricalNB\n",
    "from sklearn.metrics import ConfusionMatrixDisplay, accuracy_score"
   ]
  },
  {
   "cell_type": "markdown",
   "id": "3fd9465d-2196-4a03-8288-47f02c8d9df1",
   "metadata": {
    "jupyter": {
     "source_hidden": true
    },
    "tags": []
   },
   "source": [
    "# Loading and Initial Analysis of Dataset"
   ]
  },
  {
   "cell_type": "code",
   "execution_count": null,
   "id": "ca08f135-02ea-4431-93dd-d03fcc8ea1d9",
   "metadata": {
    "jupyter": {
     "source_hidden": true
    }
   },
   "outputs": [],
   "source": [
    "# Load the dataset\n",
    "data = fetch_20newsgroups()\n",
    "# Get the text categories\n",
    "text_categories = data.target_names\n",
    "# define the training set\n",
    "train_data = fetch_20newsgroups(subset=\"train\", categories=text_categories)\n",
    "# define the test set\n",
    "test_data = fetch_20newsgroups(subset=\"test\", categories=text_categories)"
   ]
  },
  {
   "cell_type": "code",
   "execution_count": null,
   "id": "90092556-7f2c-48d4-a19f-f637c3cfa393",
   "metadata": {
    "jupyter": {
     "source_hidden": true
    }
   },
   "outputs": [],
   "source": [
    "print(\"We have {} unique classes\".format(len(text_categories)))\n",
    "print(\"We have {} training samples\".format(len(train_data.data)))\n",
    "print(\"We have {} test samples\".format(len(test_data.data)))"
   ]
  },
  {
   "cell_type": "code",
   "execution_count": null,
   "id": "9d4c3268-1901-4b3e-906e-0a54d7d23d0a",
   "metadata": {
    "jupyter": {
     "source_hidden": true
    }
   },
   "outputs": [],
   "source": [
    "# let’s have a look as some training data\n",
    "print(test_data.data[6])\n",
    "type(test_data.data[6])"
   ]
  },
  {
   "cell_type": "code",
   "execution_count": null,
   "id": "0fbb1ea2-8f0f-4f73-8266-f7eaeda789e5",
   "metadata": {
    "jupyter": {
     "source_hidden": true
    }
   },
   "outputs": [],
   "source": [
    "print(test_data.target_names[test_data.target[5]])"
   ]
  },
  {
   "cell_type": "markdown",
   "id": "424f486a-e1b4-40b3-b25f-67a49d96e3dc",
   "metadata": {
    "jupyter": {
     "source_hidden": true
    },
    "tags": []
   },
   "source": [
    "# Preprocessing"
   ]
  },
  {
   "cell_type": "code",
   "execution_count": null,
   "id": "a4e4f485-3ade-4e9a-b58e-163ebd3d72b9",
   "metadata": {
    "jupyter": {
     "source_hidden": true
    }
   },
   "outputs": [],
   "source": [
    "vec=CountVectorizer(stop_words='english', lowercase=True)\n",
    "X_train=vec.fit_transform(train_data.data)\n",
    "X_test=vec.transform(test_data.data)\n",
    "len(vec.vocabulary_)"
   ]
  },
  {
   "cell_type": "markdown",
   "id": "4d99d16b-f662-4d25-a84e-705be5eee32b",
   "metadata": {
    "jupyter": {
     "source_hidden": true
    },
    "tags": []
   },
   "source": [
    "Try Categorical Naive Bayes"
   ]
  },
  {
   "cell_type": "code",
   "execution_count": null,
   "id": "8995ac27-5ce7-497f-b671-4ce5bd1429d1",
   "metadata": {
    "jupyter": {
     "source_hidden": true
    }
   },
   "outputs": [],
   "source": [
    "start = time.time()\n",
    "categorical_nb=CategoricalNB()\n",
    "categorical_nb.fit(X_train.toarray(), train_data.target)\n",
    "print(time.time()-start)"
   ]
  },
  {
   "cell_type": "code",
   "execution_count": null,
   "id": "1dd2d150-32e8-40ae-8ded-1c7480bc7db6",
   "metadata": {
    "jupyter": {
     "source_hidden": true
    }
   },
   "outputs": [],
   "source": [
    "#predicted_categories = categorical_nb.predict(vec.transform(test_data.data).toarray())"
   ]
  },
  {
   "cell_type": "markdown",
   "id": "ebc75795-4d4f-4fa8-827f-883633c3c75f",
   "metadata": {
    "jupyter": {
     "source_hidden": true
    },
    "tags": []
   },
   "source": [
    "Try Multinomial Naive Bayes"
   ]
  },
  {
   "cell_type": "code",
   "execution_count": null,
   "id": "b0858fdf-9248-48b5-a703-88d07330a39d",
   "metadata": {
    "jupyter": {
     "source_hidden": true
    }
   },
   "outputs": [],
   "source": [
    "start = time.time()\n",
    "multinomial_nb= MultinomialNB()\n",
    "# Train the model using the training data\n",
    "multinomial_nb.fit(X_train, train_data.target)\n",
    "print(time.time()-start)"
   ]
  },
  {
   "cell_type": "code",
   "execution_count": null,
   "id": "4b156aa9-5bcd-4187-bbde-431ee206946d",
   "metadata": {
    "jupyter": {
     "source_hidden": true
    }
   },
   "outputs": [],
   "source": [
    "predicted_categories = multinomial_nb.predict(vec.transform(test_data.data))"
   ]
  },
  {
   "cell_type": "code",
   "execution_count": null,
   "id": "9a78cee4-7d87-4d8d-8791-ed1401a628b3",
   "metadata": {
    "jupyter": {
     "source_hidden": true
    }
   },
   "outputs": [],
   "source": [
    "print(np.array(test_data.target_names)[predicted_categories])"
   ]
  },
  {
   "cell_type": "code",
   "execution_count": null,
   "id": "174d0a88-998c-493c-93e8-10e5fcf2082e",
   "metadata": {
    "jupyter": {
     "source_hidden": true
    }
   },
   "outputs": [],
   "source": [
    "accuracy_score(test_data.target, predicted_categories)"
   ]
  },
  {
   "cell_type": "code",
   "execution_count": null,
   "id": "64cec01f-28f7-4a78-bc6c-3eb36afdb66c",
   "metadata": {
    "jupyter": {
     "source_hidden": true
    }
   },
   "outputs": [],
   "source": [
    "prod_data=[\"I am the doctor\", \"May Abraham find his Eva\", \"Have you tried turning it off an on again?\"]\n",
    "prod_pred=multinomial_nb.predict(vec.transform(prod_data))\n",
    "np.array(text_categories)[prod_pred]"
   ]
  }
 ],
 "metadata": {
  "kernelspec": {
   "display_name": "mads_ml_env",
   "language": "python",
   "name": "mads_ml_env"
  },
  "language_info": {
   "codemirror_mode": {
    "name": "ipython",
    "version": 3
   },
   "file_extension": ".py",
   "mimetype": "text/x-python",
   "name": "python",
   "nbconvert_exporter": "python",
   "pygments_lexer": "ipython3",
   "version": "3.9.4"
  }
 },
 "nbformat": 4,
 "nbformat_minor": 5
}
