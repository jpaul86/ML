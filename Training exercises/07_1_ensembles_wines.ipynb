{
 "cells": [
  {
   "cell_type": "code",
   "execution_count": null,
   "id": "b8239b1a-34d2-4244-bce4-59d9df5a3a1c",
   "metadata": {
    "jupyter": {
     "source_hidden": true
    },
    "tags": []
   },
   "outputs": [],
   "source": [
    "import pandas as pd\n",
    "import numpy as np\n",
    "import time\n",
    "from sklearn import metrics, tree, ensemble\n",
    "from sklearn.model_selection import GridSearchCV, cross_val_score, StratifiedKFold"
   ]
  },
  {
   "cell_type": "code",
   "execution_count": null,
   "id": "f5354162-2db2-4e49-b345-1273cbae412a",
   "metadata": {
    "jupyter": {
     "source_hidden": true
    }
   },
   "outputs": [],
   "source": [
    "wines=pd.read_csv('data/wine.data', names=[\"Clazz\", \"Alcohol\", \"Malic acid\", \"Ash\",\"Alcalinity of ash\", \"Magnesium\",\n",
    " \"Total phenols\",\n",
    "\"Flavanoids\",\n",
    " \"Nonflavanoid phenols\",\n",
    " \"Proanthocyanins\",\n",
    "\"Color intensity\",\n",
    "\"Hue\",\n",
    "\"OD280/OD315 of diluted wines\",\n",
    "\"Proline\"])\n",
    "wines.head()"
   ]
  },
  {
   "cell_type": "code",
   "execution_count": null,
   "id": "ef0b7941-67f6-43e2-acca-4e4c6c855f05",
   "metadata": {
    "jupyter": {
     "source_hidden": true
    }
   },
   "outputs": [],
   "source": [
    "y=wines.Clazz\n",
    "X=wines.drop('Clazz', axis=1)"
   ]
  },
  {
   "cell_type": "markdown",
   "id": "6d92fbd4-b1c4-4394-bdaf-22b5cf166665",
   "metadata": {
    "jupyter": {
     "source_hidden": true
    },
    "tags": []
   },
   "source": [
    "## Run Nested CV to Compare Base, Bagging, and Boosting Classifiers"
   ]
  },
  {
   "cell_type": "code",
   "execution_count": null,
   "id": "7eeae42e-487a-471d-9999-8e10f19d6b61",
   "metadata": {
    "jupyter": {
     "source_hidden": true
    }
   },
   "outputs": [],
   "source": [
    "inner_cv = StratifiedKFold(n_splits=5, shuffle=True, random_state=0)\n",
    "outer_cv = StratifiedKFold(n_splits=5, shuffle=True, random_state=1)\n",
    "\n",
    "\n",
    "def evaluate_classifier(model, features, target):\n",
    "    tic=time.time()\n",
    "    res = cross_val_score(model, features, target, cv=outer_cv, n_jobs=5, scoring='accuracy')\n",
    "    print(f\"The mean accuracy of the outer cross validation: \"\n",
    "      f\"{res.mean():.3f} +/- {res.std():.3f}\") \n",
    "    print(f\"Time for Evaluation: {(time.time()-tic):.3f} seconds.\")"
   ]
  },
  {
   "cell_type": "markdown",
   "id": "e457ca7f-3e67-4796-b07f-801e413f468d",
   "metadata": {
    "jupyter": {
     "source_hidden": true
    },
    "tags": []
   },
   "source": [
    "### Bagging\n",
    "For this experiment we do not optimize hyperparameters of the base algorithm \n",
    "(usually these hyperparameters have to be optimized as well)."
   ]
  },
  {
   "cell_type": "code",
   "execution_count": null,
   "id": "5cfe55e8-7f98-4340-95e0-d8ef13b26a95",
   "metadata": {
    "jupyter": {
     "source_hidden": true
    }
   },
   "outputs": [],
   "source": [
    "dtc=tree.DecisionTreeClassifier()\n",
    "evaluate_classifier(dtc, X, y)"
   ]
  },
  {
   "cell_type": "code",
   "execution_count": null,
   "id": "ac2c2a8a-45e9-426d-b297-687187289d36",
   "metadata": {
    "jupyter": {
     "source_hidden": true
    }
   },
   "outputs": [],
   "source": [
    "bagging_clf = ensemble.BaggingClassifier(base_estimator=dtc,\n",
    "                            #n_estimators=200,\n",
    "                            #max_samples=.5,\n",
    "                            max_features=1.0,\n",
    "                            n_jobs=5)\n",
    "\n",
    "bagging_grid = {\n",
    "    \"n_estimators\": [10, 20, 50, 100, 200, 500], \n",
    "    \"max_samples\": np.array(range(1,11))/10.0\n",
    "}\n",
    "\n",
    "# hyperparameter selection\n",
    "bagging_grid_cv = GridSearchCV(\n",
    "    estimator=bagging_clf, param_grid=bagging_grid, cv=inner_cv, n_jobs=5, scoring='accuracy')\n",
    "\n",
    "evaluate_classifier(bagging_grid_cv, X, y)"
   ]
  },
  {
   "cell_type": "code",
   "execution_count": null,
   "id": "21b9aede-18bb-4b0a-a71e-bcea1d691125",
   "metadata": {
    "jupyter": {
     "source_hidden": true
    }
   },
   "outputs": [],
   "source": [
    "bagging_grid_cv.fit(X,y)\n",
    "bagging_grid_cv.best_params_"
   ]
  },
  {
   "cell_type": "markdown",
   "id": "feba90df-9b55-469c-9c31-2c7586a6f0f2",
   "metadata": {
    "jupyter": {
     "source_hidden": true
    },
    "tags": []
   },
   "source": [
    "### Boosting"
   ]
  },
  {
   "cell_type": "code",
   "execution_count": null,
   "id": "91521f0a-e8c4-4af4-9b8a-0d76157d8d6a",
   "metadata": {
    "jupyter": {
     "source_hidden": true
    }
   },
   "outputs": [],
   "source": [
    "dtc1=tree.DecisionTreeClassifier(max_depth=1) # for this experiment we explicitly impede the trees performance by allowing only small depth\n",
    "evaluate_classifier(dtc1, X, y)"
   ]
  },
  {
   "cell_type": "code",
   "execution_count": null,
   "id": "40c38e88-de10-4b69-a075-aaa8062c1c8f",
   "metadata": {
    "jupyter": {
     "source_hidden": true
    }
   },
   "outputs": [],
   "source": [
    "ada_clf = ensemble.AdaBoostClassifier(base_estimator=dtc1)\n",
    "\n",
    "ada_grid={\n",
    "    'n_estimators':[10, 20, 50, 100, 200, 500],\n",
    "    'learning_rate':[0.1, 0.2, 0.5, 1.0, 2.0]\n",
    "}\n",
    "ada_grid_cv = GridSearchCV(\n",
    "    estimator=ada_clf, param_grid=ada_grid, cv=inner_cv, n_jobs=5, scoring='accuracy')\n",
    "\n",
    "evaluate_classifier(ada_grid_cv, X, y)"
   ]
  },
  {
   "cell_type": "code",
   "execution_count": null,
   "id": "52178920-94a1-401e-8deb-40e2c1cf380f",
   "metadata": {
    "jupyter": {
     "source_hidden": true
    }
   },
   "outputs": [],
   "source": [
    "ada_grid_cv.fit(X,y)\n",
    "ada_grid_cv.best_params_"
   ]
  },
  {
   "cell_type": "markdown",
   "id": "72ec5464-fdc7-405d-ac50-8e6099547461",
   "metadata": {
    "jupyter": {
     "source_hidden": true
    },
    "tags": []
   },
   "source": [
    "Note that we used a non-binary classification problem in this demo. The steps of AdaBoost can easily be adapted to non-binary problems."
   ]
  },
  {
   "cell_type": "code",
   "execution_count": null,
   "id": "b3488040-6b5b-4cbe-87b1-9c9f76fb6acc",
   "metadata": {
    "jupyter": {
     "source_hidden": true
    },
    "tags": []
   },
   "outputs": [],
   "source": []
  }
 ],
 "metadata": {
  "kernelspec": {
   "display_name": "mads_ml_env",
   "language": "python",
   "name": "mads_ml_env"
  },
  "language_info": {
   "codemirror_mode": {
    "name": "ipython",
    "version": 3
   },
   "file_extension": ".py",
   "mimetype": "text/x-python",
   "name": "python",
   "nbconvert_exporter": "python",
   "pygments_lexer": "ipython3",
   "version": "3.9.4"
  }
 },
 "nbformat": 4,
 "nbformat_minor": 5
}
