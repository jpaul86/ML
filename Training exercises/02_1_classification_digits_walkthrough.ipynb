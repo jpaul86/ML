{
 "cells": [
  {
   "cell_type": "markdown",
   "id": "e73dbf7a-550e-4e56-96c6-083b32d82ffe",
   "metadata": {},
   "source": [
    "## Data Acquisition"
   ]
  },
  {
   "cell_type": "code",
   "execution_count": 1,
   "id": "9ebdbf56-ef2d-457c-b9a3-897d18933fcd",
   "metadata": {
    "jupyter": {
     "source_hidden": true
    },
    "tags": []
   },
   "outputs": [
    {
     "data": {
      "text/plain": [
       "\".. _digits_dataset:\\n\\nOptical recognition of handwritten digits dataset\\n--------------------------------------------------\\n\\n**Data Set Characteristics:**\\n\\n    :Number of Instances: 1797\\n    :Number of Attributes: 64\\n    :Attribute Information: 8x8 image of integer pixels in the range 0..16.\\n    :Missing Attribute Values: None\\n    :Creator: E. Alpaydin (alpaydin '@' boun.edu.tr)\\n    :Date: July; 1998\\n\\nThis is a copy of the test set of the UCI ML hand-written digits datasets\\nhttps://archive.ics.uci.edu/ml/datasets/Optical+Recognition+of+Handwritten+Digits\\n\\nThe data set contains images of hand-written digits: 10 classes where\\neach class refers to a digit.\\n\\nPreprocessing programs made available by NIST were used to extract\\nnormalized bitmaps of handwritten digits from a preprinted form. From a\\ntotal of 43 people, 30 contributed to the training set and different 13\\nto the test set. 32x32 bitmaps are divided into nonoverlapping blocks of\\n4x4 and the number of on pixels are counted in each block. This generates\\nan input matrix of 8x8 where each element is an integer in the range\\n0..16. This reduces dimensionality and gives invariance to small\\ndistortions.\\n\\nFor info on NIST preprocessing routines, see M. D. Garris, J. L. Blue, G.\\nT. Candela, D. L. Dimmick, J. Geist, P. J. Grother, S. A. Janet, and C.\\nL. Wilson, NIST Form-Based Handprint Recognition System, NISTIR 5469,\\n1994.\\n\\n.. topic:: References\\n\\n  - C. Kaynak (1995) Methods of Combining Multiple Classifiers and Their\\n    Applications to Handwritten Digit Recognition, MSc Thesis, Institute of\\n    Graduate Studies in Science and Engineering, Bogazici University.\\n  - E. Alpaydin, C. Kaynak (1998) Cascading Classifiers, Kybernetika.\\n  - Ken Tang and Ponnuthurai N. Suganthan and Xi Yao and A. Kai Qin.\\n    Linear dimensionalityreduction using relevance weighted LDA. School of\\n    Electrical and Electronic Engineering Nanyang Technological University.\\n    2005.\\n  - Claudio Gentile. A New Approximate Maximal Margin Classification\\n    Algorithm. NIPS. 2000.\\n\""
      ]
     },
     "execution_count": 1,
     "metadata": {},
     "output_type": "execute_result"
    }
   ],
   "source": [
    "from sklearn import datasets\n",
    "digits = datasets.load_digits()\n",
    "raw_data = digits.images\n",
    "target = digits.target\n",
    "digits.DESCR"
   ]
  },
  {
   "cell_type": "markdown",
   "id": "56399536-4f89-4c45-ba67-7ca91b86a7c5",
   "metadata": {
    "jupyter": {
     "source_hidden": true
    },
    "tags": []
   },
   "source": [
    "### Legal Aspects\n",
    "_Are we allowed to use the data?_\n",
    "\n",
    "The digits data set used in this notebook is a copy of the testset of the data licensed under the [Creative Commons Attribution 4.0 International](https://creativecommons.org/licenses/by/4.0/) (CC BY 4.0) provided by: Alpaydin, E. & Kaynak, C.. (1998). Optical Recognition of Handwritten Digits. UCI Machine Learning Repository."
   ]
  },
  {
   "cell_type": "markdown",
   "id": "6180becf-9fa0-4bd4-940d-cae444ae526a",
   "metadata": {
    "jupyter": {
     "source_hidden": true
    },
    "tags": []
   },
   "source": [
    "## Initial Data Analysis"
   ]
  },
  {
   "cell_type": "code",
   "execution_count": 2,
   "id": "ef73be90-cbea-4bfe-84e0-cab2e591875e",
   "metadata": {
    "jupyter": {
     "source_hidden": true
    },
    "tags": []
   },
   "outputs": [
    {
     "name": "stdout",
     "output_type": "stream",
     "text": [
      "Dataset type: <class 'numpy.ndarray'>\n",
      "Target type: <class 'numpy.ndarray'>\n",
      "Dataset shape: (1797, 8, 8)\n",
      "Target shape: (1797,)\n"
     ]
    }
   ],
   "source": [
    "print(f'Dataset type: {type(raw_data)}')\n",
    "print(f'Target type: {type(target)}')\n",
    "print(f'Dataset shape: {raw_data.shape}')\n",
    "print(f'Target shape: {target.shape}')"
   ]
  },
  {
   "cell_type": "markdown",
   "id": "a8d16718-9d3b-4525-9ac4-f2e93a376a34",
   "metadata": {
    "jupyter": {
     "source_hidden": true
    },
    "tags": []
   },
   "source": [
    "### Aquire domain knowledge\n",
    "_What does the data mean?_\n",
    "\n",
    "Check [UCI Machine Learning Repository](https://archive.ics.uci.edu/ml/datasets/Optical+Recognition+of+Handwritten+Digits):\n",
    "\"We used preprocessing programs made available by NIST to extract __normalized bitmaps of handwritten digits__ from a preprinted form. From a total of 43 people, 30 contributed to the training set and different 13 to the test set. __32x32 bitmaps are divided into nonoverlapping blocks of 4x4 and the number of on pixels are counted in each block. This generates an input matrix of 8x8 where each element is an integer in the range 0..16.__ This reduces dimensionality and gives invariance to small distortions.\"\n",
    "\n",
    "Note: The dataset we have, is already the result of preprocessing procedures!"
   ]
  },
  {
   "cell_type": "code",
   "execution_count": 3,
   "id": "80e997bd-052e-4d8f-adef-03bd42e6b2ec",
   "metadata": {
    "jupyter": {
     "source_hidden": true
    },
    "tags": []
   },
   "outputs": [
    {
     "data": {
      "text/plain": [
       "array([ 0.,  1.,  2.,  3.,  4.,  5.,  6.,  7.,  8.,  9., 10., 11., 12.,\n",
       "       13., 14., 15., 16.])"
      ]
     },
     "execution_count": 3,
     "metadata": {},
     "output_type": "execute_result"
    }
   ],
   "source": [
    "import numpy as np\n",
    "np.unique(raw_data) # see the different values, verify they are in the range 0..16"
   ]
  },
  {
   "cell_type": "markdown",
   "id": "1a99fc57-edc7-4efc-bf5a-31a89447e4b0",
   "metadata": {
    "jupyter": {
     "source_hidden": true
    },
    "tags": []
   },
   "source": [
    "### Check data samples"
   ]
  },
  {
   "cell_type": "code",
   "execution_count": 4,
   "id": "cb89daa6-1a06-4c12-ba9c-71ab41df6756",
   "metadata": {
    "jupyter": {
     "source_hidden": true
    },
    "tags": []
   },
   "outputs": [
    {
     "data": {
      "text/plain": [
       "array([[ 0.,  0.,  5., 13.,  9.,  1.,  0.,  0.],\n",
       "       [ 0.,  0., 13., 15., 10., 15.,  5.,  0.],\n",
       "       [ 0.,  3., 15.,  2.,  0., 11.,  8.,  0.],\n",
       "       [ 0.,  4., 12.,  0.,  0.,  8.,  8.,  0.],\n",
       "       [ 0.,  5.,  8.,  0.,  0.,  9.,  8.,  0.],\n",
       "       [ 0.,  4., 11.,  0.,  1., 12.,  7.,  0.],\n",
       "       [ 0.,  2., 14.,  5., 10., 12.,  0.,  0.],\n",
       "       [ 0.,  0.,  6., 13., 10.,  0.,  0.,  0.]])"
      ]
     },
     "execution_count": 4,
     "metadata": {},
     "output_type": "execute_result"
    }
   ],
   "source": [
    "raw_data[0]"
   ]
  },
  {
   "cell_type": "code",
   "execution_count": 5,
   "id": "d4d31d2c-58c9-45f8-a268-8d8107a50ae6",
   "metadata": {
    "jupyter": {
     "source_hidden": true
    },
    "tags": []
   },
   "outputs": [
    {
     "data": {
      "text/plain": [
       "<Figure size 432x288 with 0 Axes>"
      ]
     },
     "metadata": {},
     "output_type": "display_data"
    },
    {
     "data": {
      "image/png": "[encoded data removed]",
      "text/plain": [
       "<Figure size 288x288 with 1 Axes>"
      ]
     },
     "metadata": {
      "needs_background": "light"
     },
     "output_type": "display_data"
    }
   ],
   "source": [
    "import matplotlib.pyplot as plt \n",
    "plt.gray() \n",
    "plt.matshow(raw_data[0]) \n",
    "plt.show()"
   ]
  },
  {
   "cell_type": "code",
   "execution_count": 6,
   "id": "cd3d2838-0957-4072-bcfe-0361afaa3687",
   "metadata": {
    "jupyter": {
     "source_hidden": true
    },
    "tags": []
   },
   "outputs": [
    {
     "data": {
      "text/plain": [
       "0"
      ]
     },
     "execution_count": 6,
     "metadata": {},
     "output_type": "execute_result"
    }
   ],
   "source": [
    "target[0]"
   ]
  },
  {
   "cell_type": "code",
   "execution_count": 7,
   "id": "0f730e8e-dbad-4403-b8b9-88525706412f",
   "metadata": {
    "jupyter": {
     "source_hidden": true
    },
    "tags": []
   },
   "outputs": [
    {
     "data": {
      "image/png": "[encoded data removed]",
      "text/plain": [
       "<Figure size 720x216 with 20 Axes>"
      ]
     },
     "metadata": {
      "needs_background": "light"
     },
     "output_type": "display_data"
    }
   ],
   "source": [
    "_, axes = plt.subplots(nrows=2, ncols=10, figsize=(10, 3))\n",
    "for ax, image, label in zip(axes.reshape(-1), raw_data, target):\n",
    "    ax.set_axis_off()\n",
    "    ax.imshow(image, cmap=plt.cm.gray_r)\n",
    "    ax.set_title('Target: %i' % label)\n",
    "\n"
   ]
  },
  {
   "cell_type": "markdown",
   "id": "241dcb78-367e-4c58-a9fd-7390652dee16",
   "metadata": {
    "jupyter": {
     "source_hidden": true
    },
    "tags": []
   },
   "source": [
    "## Formulate Task\n",
    "* given an 8x8 image\n",
    "* task: assign the digit that the image supposedly depicts\n",
    "* dataset: labelled data -> images + target\n",
    "* problem type: classification (supervised learning)\n",
    "* 10 classes: 0,1,...,9 (multi-class classification)"
   ]
  },
  {
   "cell_type": "markdown",
   "id": "6d7ea351-809b-4696-b6cf-9cc35ee0a3d7",
   "metadata": {
    "jupyter": {
     "source_hidden": true
    },
    "tags": []
   },
   "source": [
    "## Setup Experiment"
   ]
  },
  {
   "cell_type": "markdown",
   "id": "f1710f99-7608-4d27-80de-a4499105bd9e",
   "metadata": {
    "jupyter": {
     "source_hidden": true
    },
    "tags": []
   },
   "source": [
    "### Preprocessing Data\n",
    "Adapt the data to be manageable by the algorithms we want to use "
   ]
  },
  {
   "cell_type": "code",
   "execution_count": 8,
   "id": "cdd89777-75fb-4e96-a6a0-4776c2f256b2",
   "metadata": {
    "jupyter": {
     "source_hidden": true
    },
    "tags": []
   },
   "outputs": [
    {
     "data": {
      "text/plain": [
       "(1797, 64)"
      ]
     },
     "execution_count": 8,
     "metadata": {},
     "output_type": "execute_result"
    }
   ],
   "source": [
    "data = raw_data.reshape((len(raw_data), -1))\n",
    "data.shape # first dimension as before, second and third have been reshaped"
   ]
  },
  {
   "cell_type": "code",
   "execution_count": 9,
   "id": "7146de96-2e1a-459a-9176-75ede2c28f27",
   "metadata": {
    "jupyter": {
     "source_hidden": true
    },
    "tags": []
   },
   "outputs": [
    {
     "name": "stdout",
     "output_type": "stream",
     "text": [
      "Raw image 0: \n",
      " [[ 0.  0.  5. 13.  9.  1.  0.  0.]\n",
      " [ 0.  0. 13. 15. 10. 15.  5.  0.]\n",
      " [ 0.  3. 15.  2.  0. 11.  8.  0.]\n",
      " [ 0.  4. 12.  0.  0.  8.  8.  0.]\n",
      " [ 0.  5.  8.  0.  0.  9.  8.  0.]\n",
      " [ 0.  4. 11.  0.  1. 12.  7.  0.]\n",
      " [ 0.  2. 14.  5. 10. 12.  0.  0.]\n",
      " [ 0.  0.  6. 13. 10.  0.  0.  0.]]\n",
      "Preprocessed image 0: \n",
      " [ 0.  0.  5. 13.  9.  1.  0.  0.  0.  0. 13. 15. 10. 15.  5.  0.  0.  3.\n",
      " 15.  2.  0. 11.  8.  0.  0.  4. 12.  0.  0.  8.  8.  0.  0.  5.  8.  0.\n",
      "  0.  9.  8.  0.  0.  4. 11.  0.  1. 12.  7.  0.  0.  2. 14.  5. 10. 12.\n",
      "  0.  0.  0.  0.  6. 13. 10.  0.  0.  0.]\n"
     ]
    }
   ],
   "source": [
    "print(\"Raw image 0: \\n\", raw_data[0])\n",
    "print(\"Preprocessed image 0: \\n\", data[0])"
   ]
  },
  {
   "cell_type": "markdown",
   "id": "125c6ad9-7462-4244-ad2c-af3ee17ef2c5",
   "metadata": {
    "jupyter": {
     "source_hidden": true
    },
    "tags": []
   },
   "source": [
    "### Split data 2 ways\n",
    "Create training and test data"
   ]
  },
  {
   "cell_type": "code",
   "execution_count": 10,
   "id": "a37d7943-e616-4f20-a9aa-5b7ba178631e",
   "metadata": {
    "jupyter": {
     "source_hidden": true
    },
    "tags": []
   },
   "outputs": [],
   "source": [
    "from sklearn.model_selection import train_test_split\n",
    "X_train, X_test, y_train, y_test = train_test_split(data, target, test_size=0.4, shuffle=True, random_state=42, stratify=target)"
   ]
  },
  {
   "cell_type": "code",
   "execution_count": 11,
   "id": "915e0647-b714-4b3a-ba43-3e4963276a27",
   "metadata": {
    "jupyter": {
     "source_hidden": true
    },
    "tags": []
   },
   "outputs": [
    {
     "name": "stdout",
     "output_type": "stream",
     "text": [
      "(1078, 64) (1078,) (719, 64) (719,)\n"
     ]
    }
   ],
   "source": [
    "print(X_train.shape, y_train.shape, X_test.shape, y_test.shape)"
   ]
  },
  {
   "cell_type": "markdown",
   "id": "5b0db0a8-5db0-4afb-a2b2-dac4465c97f3",
   "metadata": {
    "jupyter": {
     "source_hidden": true
    },
    "tags": []
   },
   "source": [
    "## Training (Machine Learning)"
   ]
  },
  {
   "cell_type": "code",
   "execution_count": 12,
   "id": "3bb951cf-8158-4bef-b103-32526cae6136",
   "metadata": {
    "jupyter": {
     "source_hidden": true
    },
    "tags": []
   },
   "outputs": [
    {
     "data": {
      "text/html": [
       "<style>#sk-container-id-1 {color: black;background-color: white;}#sk-container-id-1 pre{padding: 0;}#sk-container-id-1 div.sk-toggleable {background-color: white;}#sk-container-id-1 label.sk-toggleable__label {cursor: pointer;display: block;width: 100%;margin-bottom: 0;padding: 0.3em;box-sizing: border-box;text-align: center;}#sk-container-id-1 label.sk-toggleable__label-arrow:before {content: \"▸\";float: left;margin-right: 0.25em;color: #696969;}#sk-container-id-1 label.sk-toggleable__label-arrow:hover:before {color: black;}#sk-container-id-1 div.sk-estimator:hover label.sk-toggleable__label-arrow:before {color: black;}#sk-container-id-1 div.sk-toggleable__content {max-height: 0;max-width: 0;overflow: hidden;text-align: left;background-color: #f0f8ff;}#sk-container-id-1 div.sk-toggleable__content pre {margin: 0.2em;color: black;border-radius: 0.25em;background-color: #f0f8ff;}#sk-container-id-1 input.sk-toggleable__control:checked~div.sk-toggleable__content {max-height: 200px;max-width: 100%;overflow: auto;}#sk-container-id-1 input.sk-toggleable__control:checked~label.sk-toggleable__label-arrow:before {content: \"▾\";}#sk-container-id-1 div.sk-estimator input.sk-toggleable__control:checked~label.sk-toggleable__label {background-color: #d4ebff;}#sk-container-id-1 div.sk-label input.sk-toggleable__control:checked~label.sk-toggleable__label {background-color: #d4ebff;}#sk-container-id-1 input.sk-hidden--visually {border: 0;clip: rect(1px 1px 1px 1px);clip: rect(1px, 1px, 1px, 1px);height: 1px;margin: -1px;overflow: hidden;padding: 0;position: absolute;width: 1px;}#sk-container-id-1 div.sk-estimator {font-family: monospace;background-color: #f0f8ff;border: 1px dotted black;border-radius: 0.25em;box-sizing: border-box;margin-bottom: 0.5em;}#sk-container-id-1 div.sk-estimator:hover {background-color: #d4ebff;}#sk-container-id-1 div.sk-parallel-item::after {content: \"\";width: 100%;border-bottom: 1px solid gray;flex-grow: 1;}#sk-container-id-1 div.sk-label:hover label.sk-toggleable__label {background-color: #d4ebff;}#sk-container-id-1 div.sk-serial::before {content: \"\";position: absolute;border-left: 1px solid gray;box-sizing: border-box;top: 0;bottom: 0;left: 50%;z-index: 0;}#sk-container-id-1 div.sk-serial {display: flex;flex-direction: column;align-items: center;background-color: white;padding-right: 0.2em;padding-left: 0.2em;position: relative;}#sk-container-id-1 div.sk-item {position: relative;z-index: 1;}#sk-container-id-1 div.sk-parallel {display: flex;align-items: stretch;justify-content: center;background-color: white;position: relative;}#sk-container-id-1 div.sk-item::before, #sk-container-id-1 div.sk-parallel-item::before {content: \"\";position: absolute;border-left: 1px solid gray;box-sizing: border-box;top: 0;bottom: 0;left: 50%;z-index: -1;}#sk-container-id-1 div.sk-parallel-item {display: flex;flex-direction: column;z-index: 1;position: relative;background-color: white;}#sk-container-id-1 div.sk-parallel-item:first-child::after {align-self: flex-end;width: 50%;}#sk-container-id-1 div.sk-parallel-item:last-child::after {align-self: flex-start;width: 50%;}#sk-container-id-1 div.sk-parallel-item:only-child::after {width: 0;}#sk-container-id-1 div.sk-dashed-wrapped {border: 1px dashed gray;margin: 0 0.4em 0.5em 0.4em;box-sizing: border-box;padding-bottom: 0.4em;background-color: white;}#sk-container-id-1 div.sk-label label {font-family: monospace;font-weight: bold;display: inline-block;line-height: 1.2em;}#sk-container-id-1 div.sk-label-container {text-align: center;}#sk-container-id-1 div.sk-container {/* jupyter's `normalize.less` sets `[hidden] { display: none; }` but bootstrap.min.css set `[hidden] { display: none !important; }` so we also need the `!important` here to be able to override the default hidden behavior on the sphinx rendered scikit-learn.org. See: https://github.com/scikit-learn/scikit-learn/issues/21755 */display: inline-block !important;position: relative;}#sk-container-id-1 div.sk-text-repr-fallback {display: none;}</style><div id=\"sk-container-id-1\" class=\"sk-top-container\"><div class=\"sk-text-repr-fallback\"><pre>SVC(gamma=0.001)</pre><b>In a Jupyter environment, please rerun this cell to show the HTML representation or trust the notebook. <br />On GitHub, the HTML representation is unable to render, please try loading this page with nbviewer.org.</b></div><div class=\"sk-container\" hidden><div class=\"sk-item\"><div class=\"sk-estimator sk-toggleable\"><input class=\"sk-toggleable__control sk-hidden--visually\" id=\"sk-estimator-id-1\" type=\"checkbox\" checked><label for=\"sk-estimator-id-1\" class=\"sk-toggleable__label sk-toggleable__label-arrow\">SVC</label><div class=\"sk-toggleable__content\"><pre>SVC(gamma=0.001)</pre></div></div></div></div></div>"
      ],
      "text/plain": [
       "SVC(gamma=0.001)"
      ]
     },
     "execution_count": 12,
     "metadata": {},
     "output_type": "execute_result"
    }
   ],
   "source": [
    "from sklearn import svm\n",
    "clf = svm.SVC(gamma=0.001)\n",
    "\n",
    "# Train the classifier\n",
    "clf.fit(X_train, y_train)"
   ]
  },
  {
   "cell_type": "code",
   "execution_count": 13,
   "id": "2dcbe042-ec60-45fe-aaf3-7ec98764de0a",
   "metadata": {
    "jupyter": {
     "source_hidden": true
    },
    "tags": []
   },
   "outputs": [
    {
     "data": {
      "text/plain": [
       "array([9, 8, 1, 3, 4, 0, 9, 5, 2, 6, 3, 9, 2, 1, 1, 2, 0, 5, 2, 0, 9, 4,\n",
       "       7, 1, 8, 3, 5, 8, 0, 2, 0, 4, 9, 9, 4, 8, 6, 1, 6, 4, 6, 7, 5, 7,\n",
       "       9, 1, 0, 9, 2, 4, 2, 7, 4, 5, 9, 3, 3, 1, 1, 1, 4, 1, 5, 5, 5, 0,\n",
       "       0, 1, 9, 5, 9, 2, 4, 1, 6, 2, 9, 9, 8, 9, 9, 4, 7, 7, 6, 1, 7, 3,\n",
       "       7, 7, 0, 0, 2, 5, 4, 4, 1, 2, 0, 0, 5, 7, 9, 1, 2, 5, 8, 0, 2, 8,\n",
       "       3, 1, 2, 6, 8, 4, 0, 4, 7, 2, 4, 9, 0, 2, 7, 6, 7, 6, 2, 6, 0, 8,\n",
       "       3, 8, 7, 5, 3, 8, 4, 4, 3, 1, 3, 0, 8, 3, 6, 4, 9, 9, 2, 9, 3, 5,\n",
       "       7, 5, 4, 3, 3, 1, 0, 9, 2, 4, 4, 2, 5, 4, 1, 2, 1, 0, 9, 4, 6, 4,\n",
       "       8, 8, 0, 0, 7, 2, 0, 6, 7, 1, 1, 4, 7, 0, 0, 6, 4, 1, 7, 9, 4, 9,\n",
       "       1, 3, 0, 7, 5, 3, 3, 5, 2, 9, 5, 4, 5, 3, 8, 7, 1, 4, 5, 0, 8, 1,\n",
       "       8, 8, 8, 1, 9, 6, 5, 8, 1, 8, 9, 8, 1, 0, 8, 9, 8, 1, 0, 1, 3, 6,\n",
       "       7, 9, 5, 2, 0, 9, 0, 5, 3, 9, 2, 3, 3, 8, 6, 1, 4, 5, 1, 6, 7, 8,\n",
       "       2, 5, 3, 9, 8, 5, 1, 8, 5, 3, 5, 7, 7, 5, 7, 8, 7, 0, 2, 1, 9, 0,\n",
       "       1, 4, 6, 7, 2, 6, 2, 0, 8, 0, 4, 4, 2, 1, 4, 2, 0, 8, 0, 7, 4, 2,\n",
       "       8, 2, 3, 2, 0, 1, 7, 1, 5, 1, 5, 7, 4, 8, 3, 9, 6, 7, 9, 5, 6, 4,\n",
       "       3, 9, 1, 6, 4, 2, 6, 0, 1, 2, 6, 9, 6, 5, 7, 1, 0, 6, 3, 4, 7, 2,\n",
       "       1, 3, 3, 7, 8, 3, 9, 3, 1, 1, 3, 5, 1, 5, 2, 7, 2, 8, 6, 2, 6, 2,\n",
       "       2, 7, 7, 6, 6, 7, 3, 1, 9, 8, 3, 6, 6, 6, 9, 0, 1, 2, 8, 0, 0, 7,\n",
       "       4, 8, 6, 3, 9, 5, 0, 5, 2, 0, 6, 9, 5, 0, 8, 4, 0, 4, 7, 3, 8, 4,\n",
       "       5, 1, 4, 2, 3, 4, 4, 1, 8, 6, 5, 0, 8, 8, 5, 8, 0, 2, 1, 2, 4, 4,\n",
       "       3, 7, 4, 7, 6, 4, 3, 8, 7, 6, 6, 5, 5, 1, 9, 8, 6, 9, 0, 7, 7, 2,\n",
       "       9, 3, 5, 1, 9, 3, 6, 6, 4, 8, 6, 2, 4, 0, 5, 6, 6, 8, 0, 4, 6, 4,\n",
       "       1, 2, 2, 7, 0, 8, 0, 3, 5, 1, 4, 9, 2, 5, 0, 8, 2, 1, 6, 4, 7, 5,\n",
       "       4, 4, 9, 0, 6, 3, 6, 7, 4, 6, 8, 3, 4, 4, 6, 6, 0, 9, 5, 0, 8, 9,\n",
       "       3, 1, 7, 9, 8, 3, 4, 2, 1, 9, 4, 9, 3, 6, 6, 1, 5, 9, 5, 1, 0, 4,\n",
       "       2, 3, 3, 5, 1, 9, 3, 5, 3, 7, 7, 7, 6, 1, 7, 7, 4, 6, 5, 3, 3, 1,\n",
       "       9, 2, 5, 7, 5, 6, 4, 4, 1, 8, 8, 1, 6, 7, 8, 2, 0, 1, 2, 9, 0, 8,\n",
       "       3, 6, 9, 3, 4, 3, 2, 3, 1, 4, 4, 9, 0, 7, 5, 2, 3, 2, 9, 8, 8, 8,\n",
       "       3, 6, 5, 6, 5, 5, 7, 2, 6, 9, 5, 3, 8, 9, 9, 5, 2, 4, 1, 7, 3, 7,\n",
       "       7, 1, 9, 2, 3, 7, 1, 7, 9, 0, 7, 9, 7, 5, 3, 9, 8, 8, 7, 1, 3, 6,\n",
       "       0, 8, 3, 3, 5, 5, 9, 6, 6, 7, 2, 1, 3, 7, 7, 1, 8, 6, 2, 4, 6, 7,\n",
       "       0, 8, 3, 6, 4, 5, 2, 5, 8, 6, 9, 3, 7, 1, 0, 3, 0, 6, 0, 0, 9, 5,\n",
       "       8, 8, 1, 2, 5, 9, 2, 0, 5, 7, 7, 3, 5, 0, 7])"
      ]
     },
     "execution_count": 13,
     "metadata": {},
     "output_type": "execute_result"
    }
   ],
   "source": [
    "y_test_pred = clf.predict(X_test)\n",
    "y_test_pred"
   ]
  },
  {
   "cell_type": "code",
   "execution_count": 14,
   "id": "52eb79b5-9dd1-4486-9d4c-a02b6b4933dd",
   "metadata": {
    "jupyter": {
     "source_hidden": true
    },
    "tags": []
   },
   "outputs": [
    {
     "name": "stdout",
     "output_type": "stream",
     "text": [
      "<class 'numpy.ndarray'>\n"
     ]
    },
    {
     "data": {
      "image/png": "[encoded data removed]",
      "text/plain": [
       "<Figure size 720x576 with 50 Axes>"
      ]
     },
     "metadata": {
      "needs_background": "light"
     },
     "output_type": "display_data"
    }
   ],
   "source": [
    "_, axes = plt.subplots(nrows=5, ncols=10, figsize=(10, 8))\n",
    "print(type(axes))\n",
    "for ax, image, prediction, actual in zip(axes.reshape(-1), X_test, y_test_pred, y_test):\n",
    "    ax.set_axis_off()\n",
    "    image = image.reshape(8, 8)\n",
    "    ax.imshow(image, cmap=plt.cm.gray_r, interpolation='nearest')\n",
    "    ax.set_title(f'Pred.: {prediction},\\n Actual: {actual}')"
   ]
  },
  {
   "cell_type": "markdown",
   "id": "f1f84b10-36c0-457c-9773-50111c40680f",
   "metadata": {
    "jupyter": {
     "source_hidden": true
    },
    "tags": []
   },
   "source": [
    "## Evaluation\n",
    "* Classify data instances, that the classifier did __not__ see during the training phase\n",
    "* Check how many are classified correctly"
   ]
  },
  {
   "cell_type": "code",
   "execution_count": null,
   "id": "6b7043dd-382e-4ed6-b078-2f011b90c0b7",
   "metadata": {
    "jupyter": {
     "source_hidden": true
    },
    "tags": []
   },
   "outputs": [],
   "source": [
    "from sklearn import metrics\n",
    "print(\"Acc on test data: \", round(metrics.accuracy_score(y_test, y_test_pred),5))"
   ]
  },
  {
   "cell_type": "markdown",
   "id": "a78f7619-fbec-4a74-976a-9a052f0ec2a5",
   "metadata": {
    "jupyter": {
     "source_hidden": true
    },
    "tags": []
   },
   "source": [
    "### Comparison to Random Baseline: \n",
    "* 10 classes, random guessing of the correct class\n",
    "* expected: 1 out of 10 times guessed correctly -> acc=0.1\n",
    "* our classifier beats the random baseline easily"
   ]
  },
  {
   "cell_type": "code",
   "execution_count": null,
   "id": "ff8715d0-4075-4d8b-ba09-8e3e38d77a54",
   "metadata": {},
   "outputs": [],
   "source": []
  }
 ],
 "metadata": {
  "interpreter": {
   "hash": "7d58a71c89dce2106bdbe309dc965ff6633a1239e9e7d6ff0dfc668959ac1d31"
  },
  "kernelspec": {
   "display_name": "Python 3.9.6 ('ml')",
   "language": "python",
   "name": "python3"
  },
  "language_info": {
   "codemirror_mode": {
    "name": "ipython",
    "version": 3
   },
   "file_extension": ".py",
   "mimetype": "text/x-python",
   "name": "python",
   "nbconvert_exporter": "python",
   "pygments_lexer": "ipython3",
   "version": "3.9.6"
  }
 },
 "nbformat": 4,
 "nbformat_minor": 5
}
