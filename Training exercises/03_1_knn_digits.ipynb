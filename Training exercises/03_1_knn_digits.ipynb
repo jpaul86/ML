{
 "cells": [
  {
   "cell_type": "markdown",
   "id": "e73dbf7a-550e-4e56-96c6-083b32d82ffe",
   "metadata": {},
   "source": [
    "## Data Acquisition"
   ]
  },
  {
   "cell_type": "code",
   "execution_count": 1,
   "id": "9ebdbf56-ef2d-457c-b9a3-897d18933fcd",
   "metadata": {
    "jupyter": {
     "source_hidden": true
    }
   },
   "outputs": [],
   "source": [
    "import numpy as np\n",
    "from sklearn import datasets\n",
    "digits = datasets.load_digits()\n",
    "raw_data = digits.images\n",
    "target = digits.target"
   ]
  },
  {
   "cell_type": "markdown",
   "id": "6180becf-9fa0-4bd4-940d-cae444ae526a",
   "metadata": {
    "jupyter": {
     "source_hidden": true
    },
    "tags": []
   },
   "source": [
    "## Initial Data Analysis"
   ]
  },
  {
   "cell_type": "code",
   "execution_count": 2,
   "id": "ef73be90-cbea-4bfe-84e0-cab2e591875e",
   "metadata": {
    "jupyter": {
     "source_hidden": true
    }
   },
   "outputs": [
    {
     "name": "stdout",
     "output_type": "stream",
     "text": [
      "Dataset type: <class 'numpy.ndarray'>\n",
      "Target type: <class 'numpy.ndarray'>\n",
      "Dataset shape: (1797, 8, 8)\n",
      "Target shape: (1797,)\n"
     ]
    }
   ],
   "source": [
    "print(f'Dataset type: {type(raw_data)}')\n",
    "print(f'Target type: {type(target)}')\n",
    "print(f'Dataset shape: {raw_data.shape}')\n",
    "print(f'Target shape: {target.shape}')"
   ]
  },
  {
   "cell_type": "code",
   "execution_count": 3,
   "id": "0f730e8e-dbad-4403-b8b9-88525706412f",
   "metadata": {
    "jupyter": {
     "source_hidden": true
    }
   },
   "outputs": [
    {
     "data": {
      "image/png": "[encoded data removed]",
      "text/plain": [
       "<Figure size 720x216 with 20 Axes>"
      ]
     },
     "metadata": {
      "needs_background": "light"
     },
     "output_type": "display_data"
    }
   ],
   "source": [
    "import matplotlib.pyplot as plt\n",
    "_, axes = plt.subplots(nrows=2, ncols=10, figsize=(10, 3))\n",
    "for ax, image, label in zip(axes.reshape(-1), raw_data, target):\n",
    "    ax.set_axis_off()\n",
    "    ax.imshow(image, cmap=plt.cm.gray_r)\n",
    "    ax.set_title('Target: %i' % label)\n",
    "\n"
   ]
  },
  {
   "cell_type": "markdown",
   "id": "6d7ea351-809b-4696-b6cf-9cc35ee0a3d7",
   "metadata": {
    "jupyter": {
     "source_hidden": true
    },
    "tags": []
   },
   "source": [
    "## Setup Experiment"
   ]
  },
  {
   "cell_type": "markdown",
   "id": "f1710f99-7608-4d27-80de-a4499105bd9e",
   "metadata": {
    "jupyter": {
     "source_hidden": true
    },
    "tags": []
   },
   "source": [
    "### Preprocessing Data\n",
    "Adapt the data to be manageable by the algorithms we want to use "
   ]
  },
  {
   "cell_type": "code",
   "execution_count": 4,
   "id": "cdd89777-75fb-4e96-a6a0-4776c2f256b2",
   "metadata": {
    "jupyter": {
     "source_hidden": true
    }
   },
   "outputs": [
    {
     "data": {
      "text/plain": [
       "(1797, 64)"
      ]
     },
     "execution_count": 4,
     "metadata": {},
     "output_type": "execute_result"
    }
   ],
   "source": [
    "data = raw_data.reshape((len(raw_data), -1))\n",
    "data.shape # first dimension as before, second and third have been reshaped"
   ]
  },
  {
   "cell_type": "markdown",
   "id": "02d0d5b1-d14e-42fc-8bbe-f30c28c905f3",
   "metadata": {
    "jupyter": {
     "source_hidden": true
    },
    "tags": []
   },
   "source": [
    "We omit scaling, as the data are already in the same range 0..16"
   ]
  },
  {
   "cell_type": "markdown",
   "id": "125c6ad9-7462-4244-ad2c-af3ee17ef2c5",
   "metadata": {
    "jupyter": {
     "source_hidden": true
    },
    "tags": []
   },
   "source": [
    "### Split data 2 ways\n",
    "Create training, test, and validation data"
   ]
  },
  {
   "cell_type": "code",
   "execution_count": 5,
   "id": "a37d7943-e616-4f20-a9aa-5b7ba178631e",
   "metadata": {
    "jupyter": {
     "source_hidden": true
    }
   },
   "outputs": [],
   "source": [
    "from sklearn.model_selection import train_test_split\n",
    "X_train, X_test, y_train, y_test = train_test_split(data, target, test_size=0.5, shuffle=True, stratify=target)"
   ]
  },
  {
   "cell_type": "code",
   "execution_count": 6,
   "id": "915e0647-b714-4b3a-ba43-3e4963276a27",
   "metadata": {
    "jupyter": {
     "source_hidden": true
    }
   },
   "outputs": [
    {
     "name": "stdout",
     "output_type": "stream",
     "text": [
      "(898, 64) (898,) (899, 64) (899,)\n"
     ]
    }
   ],
   "source": [
    "print(X_train.shape, y_train.shape, X_test.shape, y_test.shape)"
   ]
  },
  {
   "cell_type": "markdown",
   "id": "5b0db0a8-5db0-4afb-a2b2-dac4465c97f3",
   "metadata": {
    "jupyter": {
     "source_hidden": true
    },
    "tags": []
   },
   "source": [
    "## Training (Machine Learning)"
   ]
  },
  {
   "cell_type": "code",
   "execution_count": 84,
   "id": "3bb951cf-8158-4bef-b103-32526cae6136",
   "metadata": {
    "jupyter": {
     "source_hidden": true
    }
   },
   "outputs": [
    {
     "data": {
      "text/plain": [
       "KNeighborsClassifier(algorithm='brute', metric='euclidean', n_neighbors=2)"
      ]
     },
     "execution_count": 84,
     "metadata": {},
     "output_type": "execute_result"
    }
   ],
   "source": [
    "from sklearn import neighbors\n",
    "clf = neighbors.KNeighborsClassifier(2, weights='uniform', metric=\"euclidean\", algorithm=\"brute\")\n",
    "\n",
    "# Train the classifier\n",
    "clf.fit(X_train, y_train)"
   ]
  },
  {
   "cell_type": "markdown",
   "id": "f1f84b10-36c0-457c-9773-50111c40680f",
   "metadata": {
    "jupyter": {
     "source_hidden": true
    },
    "tags": []
   },
   "source": [
    "## Evaluation\n",
    "* Classify data instances, that the classifier did __not__ see during the training phase\n",
    "* Check how many are classified correctly"
   ]
  },
  {
   "cell_type": "code",
   "execution_count": 85,
   "id": "2dcbe042-ec60-45fe-aaf3-7ec98764de0a",
   "metadata": {
    "jupyter": {
     "source_hidden": true
    }
   },
   "outputs": [
    {
     "data": {
      "text/plain": [
       "array([0, 8, 5, 7, 6, 9, 5, 7, 5, 6, 0, 9, 9, 8, 4, 2, 3, 6, 8, 3, 0, 4,\n",
       "       4, 3, 2, 1, 5, 0, 9, 9, 9, 4, 4, 1, 9, 3, 9, 1, 8, 8, 6, 5, 5, 2,\n",
       "       7, 9, 2, 0, 1, 3, 8, 2, 6, 2, 9, 8, 2, 3, 8, 3, 6, 7, 7, 5, 6, 6,\n",
       "       2, 4, 4, 6, 9, 0, 9, 7, 0, 1, 4, 8, 8, 7, 2, 2, 7, 0, 1, 1, 8, 4,\n",
       "       6, 7, 7, 3, 4, 7, 5, 7, 1, 1, 7, 0, 6, 2, 1, 6, 4, 0, 2, 9, 0, 2,\n",
       "       1, 7, 9, 3, 7, 1, 2, 4, 1, 7, 9, 5, 0, 2, 5, 0, 0, 9, 6, 8, 5, 9,\n",
       "       1, 9, 1, 7, 2, 2, 6, 1, 0, 4, 4, 9, 3, 7, 8, 9, 9, 2, 8, 3, 8, 5,\n",
       "       1, 7, 4, 5, 5, 3, 3, 5, 3, 4, 2, 6, 8, 1, 3, 5, 9, 8, 9, 7, 5, 1,\n",
       "       4, 7, 1, 0, 1, 7, 0, 1, 2, 3, 6, 2, 2, 6, 3, 1, 1, 7, 4, 9, 3, 2,\n",
       "       9, 1, 7, 6, 3, 3, 5, 7, 0, 6, 2, 8, 5, 1, 0, 8, 3, 5, 3, 0, 1, 3,\n",
       "       0, 3, 5, 9, 9, 4, 0, 5, 8, 1, 4, 5, 2, 1, 9, 3, 8, 7, 0, 0, 7, 5,\n",
       "       4, 7, 4, 3, 7, 9, 9, 4, 7, 0, 8, 6, 5, 9, 1, 3, 0, 1, 6, 8, 8, 4,\n",
       "       0, 2, 6, 3, 7, 9, 5, 9, 1, 3, 4, 7, 1, 0, 1, 2, 1, 0, 9, 5, 3, 1,\n",
       "       2, 3, 9, 6, 1, 8, 2, 3, 7, 1, 6, 4, 4, 2, 6, 6, 3, 9, 7, 4, 5, 1,\n",
       "       6, 1, 3, 1, 3, 4, 3, 7, 4, 8, 3, 0, 4, 4, 6, 7, 5, 1, 3, 8, 9, 9,\n",
       "       3, 7, 3, 8, 8, 6, 3, 7, 9, 0, 0, 6, 2, 3, 1, 0, 4, 2, 4, 1, 9, 0,\n",
       "       0, 6, 5, 0, 7, 1, 7, 0, 6, 7, 0, 4, 4, 6, 8, 5, 7, 6, 8, 9, 4, 1,\n",
       "       6, 9, 4, 6, 7, 8, 1, 1, 9, 6, 0, 6, 9, 6, 0, 3, 8, 0, 9, 2, 2, 3,\n",
       "       9, 1, 4, 3, 7, 7, 0, 9, 6, 4, 2, 2, 4, 2, 0, 3, 3, 0, 8, 6, 0, 3,\n",
       "       6, 6, 5, 8, 9, 5, 0, 3, 7, 4, 0, 8, 1, 4, 3, 5, 5, 5, 6, 3, 6, 6,\n",
       "       7, 5, 5, 5, 0, 8, 2, 3, 3, 3, 1, 7, 7, 3, 5, 6, 5, 6, 3, 4, 8, 4,\n",
       "       5, 4, 5, 0, 6, 5, 4, 1, 7, 6, 5, 7, 0, 1, 6, 5, 5, 2, 7, 3, 2, 4,\n",
       "       2, 1, 7, 1, 8, 9, 1, 5, 6, 2, 4, 4, 0, 8, 9, 8, 2, 8, 6, 4, 0, 7,\n",
       "       4, 0, 2, 8, 9, 3, 6, 6, 8, 1, 7, 2, 9, 8, 8, 8, 5, 6, 1, 1, 8, 1,\n",
       "       3, 5, 3, 0, 4, 4, 0, 4, 9, 1, 5, 9, 8, 4, 5, 6, 4, 0, 6, 1, 5, 8,\n",
       "       3, 0, 2, 8, 7, 7, 1, 5, 2, 8, 8, 9, 5, 0, 8, 5, 9, 5, 7, 3, 7, 7,\n",
       "       1, 0, 5, 9, 6, 8, 2, 4, 1, 6, 7, 7, 3, 5, 9, 3, 6, 8, 1, 4, 6, 4,\n",
       "       3, 5, 7, 7, 0, 7, 1, 9, 5, 0, 9, 0, 1, 2, 4, 6, 8, 7, 7, 6, 3, 0,\n",
       "       3, 9, 5, 4, 4, 4, 2, 3, 1, 2, 8, 7, 0, 1, 7, 2, 0, 6, 2, 1, 1, 5,\n",
       "       9, 6, 2, 7, 3, 0, 6, 1, 1, 9, 2, 2, 6, 0, 3, 5, 6, 9, 5, 2, 7, 6,\n",
       "       4, 1, 1, 7, 3, 7, 8, 0, 5, 6, 0, 0, 5, 8, 1, 9, 1, 5, 8, 3, 0, 5,\n",
       "       2, 5, 8, 4, 6, 4, 1, 3, 1, 8, 8, 5, 3, 5, 8, 1, 1, 9, 0, 7, 2, 6,\n",
       "       4, 6, 4, 5, 9, 4, 1, 7, 0, 5, 4, 3, 5, 2, 2, 2, 3, 2, 6, 5, 8, 2,\n",
       "       0, 5, 8, 2, 0, 0, 1, 2, 3, 2, 1, 5, 1, 3, 0, 7, 3, 5, 1, 3, 8, 9,\n",
       "       4, 7, 9, 2, 6, 8, 6, 9, 1, 4, 2, 6, 3, 9, 6, 2, 6, 6, 4, 2, 3, 3,\n",
       "       8, 7, 4, 4, 7, 1, 8, 6, 7, 5, 4, 1, 8, 5, 8, 7, 3, 4, 1, 0, 4, 6,\n",
       "       8, 4, 2, 9, 3, 2, 7, 0, 1, 2, 9, 4, 0, 0, 4, 6, 4, 1, 5, 4, 2, 3,\n",
       "       7, 0, 3, 9, 6, 1, 4, 1, 3, 4, 5, 1, 7, 9, 3, 7, 7, 8, 8, 0, 2, 1,\n",
       "       2, 1, 2, 5, 5, 9, 3, 2, 6, 7, 5, 5, 0, 2, 3, 6, 2, 8, 5, 2, 9, 2,\n",
       "       1, 7, 5, 8, 3, 3, 5, 9, 0, 8, 7, 0, 6, 0, 0, 4, 4, 2, 2, 5, 2, 7,\n",
       "       5, 5, 5, 8, 9, 0, 1, 4, 9, 8, 8, 4, 6, 5, 6, 1, 2, 2, 4])"
      ]
     },
     "execution_count": 85,
     "metadata": {},
     "output_type": "execute_result"
    }
   ],
   "source": [
    "y_test_pred = clf.predict(X_test)\n",
    "y_test_pred"
   ]
  },
  {
   "cell_type": "code",
   "execution_count": 86,
   "id": "52eb79b5-9dd1-4486-9d4c-a02b6b4933dd",
   "metadata": {
    "jupyter": {
     "source_hidden": true
    }
   },
   "outputs": [
    {
     "data": {
      "image/png": "[encoded data removed]",
      "text/plain": [
       "<Figure size 720x216 with 10 Axes>"
      ]
     },
     "metadata": {
      "needs_background": "light"
     },
     "output_type": "display_data"
    }
   ],
   "source": [
    "_, axes = plt.subplots(nrows=1, ncols=10, figsize=(10, 3))\n",
    "for ax, image, prediction, actual in zip(axes, X_test, y_test_pred, y_test):\n",
    "    ax.set_axis_off()\n",
    "    image = image.reshape(8, 8)\n",
    "    ax.imshow(image, cmap=plt.cm.gray_r, interpolation='nearest')\n",
    "    ax.set_title(f'Pred.: {prediction},\\n Actual: {actual}')"
   ]
  },
  {
   "cell_type": "code",
   "execution_count": 87,
   "id": "6b7043dd-382e-4ed6-b078-2f011b90c0b7",
   "metadata": {
    "jupyter": {
     "source_hidden": true
    }
   },
   "outputs": [
    {
     "data": {
      "text/plain": [
       "0.973"
      ]
     },
     "execution_count": 87,
     "metadata": {},
     "output_type": "execute_result"
    }
   ],
   "source": [
    "from sklearn import metrics\n",
    "round(metrics.accuracy_score(y_test, y_test_pred),3)"
   ]
  },
  {
   "cell_type": "markdown",
   "id": "a78f7619-fbec-4a74-976a-9a052f0ec2a5",
   "metadata": {
    "jupyter": {
     "source_hidden": true
    },
    "tags": []
   },
   "source": [
    "### Comparison to Random Baseline: \n",
    "* 10 classes, random guessing of the correct class\n",
    "* expected: 1 out of 10 times guessed correctly -> acc=0.1"
   ]
  },
  {
   "cell_type": "markdown",
   "id": "29c85ece-de77-4605-a952-431805fa34af",
   "metadata": {
    "jupyter": {
     "source_hidden": true
    },
    "tags": []
   },
   "source": [
    "# Finding a good $k$\n",
    "* run loop on different values for $k$\n",
    "* compute accuracy\n",
    "WARNING: In real experiments, we should use a different way (similar procedure, different sets of data). More on that in classification II."
   ]
  },
  {
   "cell_type": "code",
   "execution_count": 90,
   "id": "c7949c1c-bc2d-4005-acf1-4a70617dbe2b",
   "metadata": {
    "jupyter": {
     "source_hidden": true
    }
   },
   "outputs": [],
   "source": [
    "def get_acc(k, voting, metric):\n",
    "    clf = neighbors.KNeighborsClassifier(k, weights=voting, metric=metric, algorithm=\"brute\")\n",
    "    clf.fit(X_train, y_train)\n",
    "    y_test_pred = clf.predict(X_test)\n",
    "    acc=metrics.accuracy_score(y_test, y_test_pred)\n",
    "    #print(k, voting, round(acc, 3))\n",
    "    return acc\n",
    "\n",
    "\n",
    "uniform_euclidean_acc=[]\n",
    "distance_euclidean_acc=[]\n",
    "uniform_manhattan_acc=[]\n",
    "distance_manhattan_acc=[]\n",
    "for k in range(1,11):\n",
    "    uniform_euclidean_acc.append(get_acc(k, 'uniform', 'euclidean'))\n",
    "    distance_euclidean_acc.append(get_acc(k, 'distance', 'euclidean'))\n",
    "    uniform_manhattan_acc.append(get_acc(k, 'uniform', 'manhattan'))\n",
    "    distance_manhattan_acc.append(get_acc(k, 'distance', 'manhattan'))\n"
   ]
  },
  {
   "cell_type": "code",
   "execution_count": 98,
   "id": "5bcebdba-c2eb-4a24-8b72-e0b9a7efd179",
   "metadata": {
    "jupyter": {
     "source_hidden": true
    }
   },
   "outputs": [
    {
     "data": {
      "image/png": "[encoded data removed]",
      "text/plain": [
       "<Figure size 432x288 with 1 Axes>"
      ]
     },
     "metadata": {
      "needs_background": "light"
     },
     "output_type": "display_data"
    }
   ],
   "source": [
    "import matplotlib.pyplot as plt\n",
    "plt.plot(range(1,11), uniform_euclidean_acc, label='uniform-euclidean')\n",
    "plt.plot(range(1,11), distance_euclidean_acc, label='distance-euclidean')\n",
    "#plt.plot(range(1,11), uniform_manhattan_acc, label='uniform-manhattan')\n",
    "#plt.plot(range(1,11), distance_manhattan_acc, label='distance-manhattan')\n",
    "plt.legend()\n",
    "#plt.savefig('foo.png')"
   ]
  },
  {
   "cell_type": "code",
   "execution_count": 82,
   "id": "41899d89-9922-4654-b1e2-0c63606dd600",
   "metadata": {
    "jupyter": {
     "source_hidden": true
    }
   },
   "outputs": [
    {
     "data": {
      "text/plain": [
       "KNeighborsClassifier(algorithm='brute', metric='euclidean', n_neighbors=2)"
      ]
     },
     "execution_count": 82,
     "metadata": {},
     "output_type": "execute_result"
    }
   ],
   "source": [
    "from sklearn import neighbors\n",
    "clf = neighbors.KNeighborsClassifier(2, weights='uniform', metric=\"euclidean\", algorithm=\"brute\")\n",
    "\n",
    "# Train the classifier\n",
    "clf.fit(X_train, y_train)"
   ]
  },
  {
   "cell_type": "code",
   "execution_count": 83,
   "id": "990fc71d-0226-4038-97aa-212dbaa1db4b",
   "metadata": {
    "jupyter": {
     "source_hidden": true
    }
   },
   "outputs": [
    {
     "data": {
      "text/plain": [
       "0.9733036707452726"
      ]
     },
     "execution_count": 83,
     "metadata": {},
     "output_type": "execute_result"
    }
   ],
   "source": [
    "y_test_pred = clf.predict(X_test)\n",
    "metrics.accuracy_score(y_test, y_test_pred)"
   ]
  },
  {
   "cell_type": "code",
   "execution_count": 15,
   "id": "ac10e45e-2fea-439c-86e5-7f67081d395f",
   "metadata": {
    "jupyter": {
     "source_hidden": true
    }
   },
   "outputs": [
    {
     "data": {
      "text/plain": [
       "array([[1. , 0. , 0. , 0. , 0. , 0. , 0. , 0. , 0. , 0. ],\n",
       "       [0. , 0. , 0. , 0. , 0. , 0. , 0. , 0. , 0. , 1. ],\n",
       "       [0. , 0. , 0. , 0. , 0. , 0. , 0. , 0. , 0. , 1. ],\n",
       "       [0. , 0. , 0. , 0. , 0. , 0. , 0. , 0. , 0.5, 0.5],\n",
       "       [0. , 0. , 0. , 0. , 1. , 0. , 0. , 0. , 0. , 0. ],\n",
       "       [0. , 0. , 1. , 0. , 0. , 0. , 0. , 0. , 0. , 0. ],\n",
       "       [0. , 0. , 0. , 1. , 0. , 0. , 0. , 0. , 0. , 0. ],\n",
       "       [0. , 0. , 0. , 0. , 0. , 0. , 1. , 0. , 0. , 0. ],\n",
       "       [0. , 0. , 0. , 0. , 0. , 0. , 0. , 0. , 1. , 0. ],\n",
       "       [0. , 0. , 0. , 1. , 0. , 0. , 0. , 0. , 0. , 0. ]])"
      ]
     },
     "execution_count": 15,
     "metadata": {},
     "output_type": "execute_result"
    }
   ],
   "source": [
    "np.round(clf.predict_proba(X_test)[10:20,:], 2)"
   ]
  },
  {
   "cell_type": "code",
   "execution_count": 16,
   "id": "7cb08ed5-7d2a-42f5-963d-5fce3130653e",
   "metadata": {
    "jupyter": {
     "source_hidden": true
    }
   },
   "outputs": [
    {
     "data": {
      "text/plain": [
       "array([0, 9, 9, 8, 4, 2, 3, 6, 8, 3])"
      ]
     },
     "execution_count": 16,
     "metadata": {},
     "output_type": "execute_result"
    }
   ],
   "source": [
    "clf.predict(X_test)[10:20]"
   ]
  },
  {
   "cell_type": "code",
   "execution_count": null,
   "id": "bb12903e-6d79-4dee-a8e6-595594fe258d",
   "metadata": {
    "jupyter": {
     "source_hidden": true
    },
    "tags": []
   },
   "outputs": [],
   "source": []
  }
 ],
 "metadata": {
  "kernelspec": {
   "display_name": "Python 3.9.6 64-bit",
   "language": "python",
   "name": "python3"
  },
  "language_info": {
   "codemirror_mode": {
    "name": "ipython",
    "version": 3
   },
   "file_extension": ".py",
   "mimetype": "text/x-python",
   "name": "python",
   "nbconvert_exporter": "python",
   "pygments_lexer": "ipython3",
   "version": "3.9.6"
  },
  "vscode": {
   "interpreter": {
    "hash": "a74d994ec3f9911014f87bc9684b49ac3cac74c457a5041d78fcdef41a4721f6"
   }
  }
 },
 "nbformat": 4,
 "nbformat_minor": 5
}
