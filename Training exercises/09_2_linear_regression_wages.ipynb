{
 "cells": [
  {
   "cell_type": "markdown",
   "id": "77edbc3f-54c1-43c5-8e5b-978577550198",
   "metadata": {
    "jupyter": {
     "source_hidden": true
    },
    "tags": []
   },
   "source": [
    "# Linear Regression\n",
    "in this notebook we run linear regression for a couple of experiments\n",
    "* analysis of data\n",
    "* prediction of data using the plain linear regression\n",
    "* prediction of data using modified versions"
   ]
  },
  {
   "cell_type": "code",
   "execution_count": 1,
   "id": "5ad53a2d-6636-40ae-8c1f-2c92b51759b1",
   "metadata": {
    "jupyter": {
     "source_hidden": true
    }
   },
   "outputs": [],
   "source": [
    "import pandas as pd\n",
    "import numpy as np\n",
    "import time\n",
    "import matplotlib.pyplot as plt\n",
    "from sklearn.linear_model import LinearRegression\n",
    "from sklearn.metrics import r2_score\n",
    "from scipy.stats import pearsonr\n",
    "from sklearn.model_selection import GridSearchCV, cross_val_score, KFold\n",
    "from sklearn.base import BaseEstimator\n",
    "from sklearn.preprocessing import PolynomialFeatures"
   ]
  },
  {
   "cell_type": "markdown",
   "id": "8d663c62-8beb-4b31-b1d7-7b8a91df0ffa",
   "metadata": {
    "jupyter": {
     "source_hidden": true
    },
    "tags": []
   },
   "source": [
    "## The Dataset"
   ]
  },
  {
   "cell_type": "code",
   "execution_count": 3,
   "id": "2a7d4f20-a00a-4824-9903-2d1f4e4ba398",
   "metadata": {
    "jupyter": {
     "source_hidden": true
    }
   },
   "outputs": [
    {
     "name": "stdout",
     "output_type": "stream",
     "text": [
      "(1000, 11)\n"
     ]
    }
   ],
   "source": [
    "raw_data=pd.read_csv(\"wages.csv\")\n",
    "print(raw_data.shape)"
   ]
  },
  {
   "cell_type": "code",
   "execution_count": 4,
   "id": "973ca23c-c1db-43d8-a2a5-f77f22b94b0f",
   "metadata": {
    "jupyter": {
     "source_hidden": true
    }
   },
   "outputs": [
    {
     "data": {
      "text/html": [
       "<div>\n",
       "<style scoped>\n",
       "    .dataframe tbody tr th:only-of-type {\n",
       "        vertical-align: middle;\n",
       "    }\n",
       "\n",
       "    .dataframe tbody tr th {\n",
       "        vertical-align: top;\n",
       "    }\n",
       "\n",
       "    .dataframe thead th {\n",
       "        text-align: right;\n",
       "    }\n",
       "</style>\n",
       "<table border=\"1\" class=\"dataframe\">\n",
       "  <thead>\n",
       "    <tr style=\"text-align: right;\">\n",
       "      <th></th>\n",
       "      <th>jobTitle</th>\n",
       "      <th>gender</th>\n",
       "      <th>age</th>\n",
       "      <th>perfEval</th>\n",
       "      <th>edu</th>\n",
       "      <th>dept</th>\n",
       "      <th>seniority</th>\n",
       "      <th>basePay</th>\n",
       "      <th>bonus</th>\n",
       "      <th>random</th>\n",
       "      <th>totalPay</th>\n",
       "    </tr>\n",
       "  </thead>\n",
       "  <tbody>\n",
       "    <tr>\n",
       "      <th>0</th>\n",
       "      <td>Graphic Designer</td>\n",
       "      <td>Female</td>\n",
       "      <td>18</td>\n",
       "      <td>5</td>\n",
       "      <td>College</td>\n",
       "      <td>Operations</td>\n",
       "      <td>2</td>\n",
       "      <td>17831.923077</td>\n",
       "      <td>7644.615385</td>\n",
       "      <td>0</td>\n",
       "      <td>25476.538462</td>\n",
       "    </tr>\n",
       "    <tr>\n",
       "      <th>1</th>\n",
       "      <td>Software Engineer</td>\n",
       "      <td>Male</td>\n",
       "      <td>21</td>\n",
       "      <td>5</td>\n",
       "      <td>College</td>\n",
       "      <td>Management</td>\n",
       "      <td>5</td>\n",
       "      <td>44254.327359</td>\n",
       "      <td>8560.000000</td>\n",
       "      <td>0</td>\n",
       "      <td>52814.327359</td>\n",
       "    </tr>\n",
       "    <tr>\n",
       "      <th>2</th>\n",
       "      <td>Warehouse Associate</td>\n",
       "      <td>Female</td>\n",
       "      <td>19</td>\n",
       "      <td>3</td>\n",
       "      <td>PhD</td>\n",
       "      <td>Administration</td>\n",
       "      <td>5</td>\n",
       "      <td>35526.153846</td>\n",
       "      <td>3564.615385</td>\n",
       "      <td>1</td>\n",
       "      <td>39090.769231</td>\n",
       "    </tr>\n",
       "    <tr>\n",
       "      <th>3</th>\n",
       "      <td>Software Engineer</td>\n",
       "      <td>Male</td>\n",
       "      <td>20</td>\n",
       "      <td>5</td>\n",
       "      <td>Masters</td>\n",
       "      <td>Sales</td>\n",
       "      <td>4</td>\n",
       "      <td>41374.145446</td>\n",
       "      <td>7810.769231</td>\n",
       "      <td>0</td>\n",
       "      <td>49184.914677</td>\n",
       "    </tr>\n",
       "    <tr>\n",
       "      <th>4</th>\n",
       "      <td>Graphic Designer</td>\n",
       "      <td>Male</td>\n",
       "      <td>26</td>\n",
       "      <td>5</td>\n",
       "      <td>Masters</td>\n",
       "      <td>Engineering</td>\n",
       "      <td>5</td>\n",
       "      <td>41274.488125</td>\n",
       "      <td>7168.461538</td>\n",
       "      <td>0</td>\n",
       "      <td>48442.949663</td>\n",
       "    </tr>\n",
       "  </tbody>\n",
       "</table>\n",
       "</div>"
      ],
      "text/plain": [
       "              jobTitle  gender  age  perfEval      edu            dept  \\\n",
       "0     Graphic Designer  Female   18         5  College      Operations   \n",
       "1    Software Engineer    Male   21         5  College      Management   \n",
       "2  Warehouse Associate  Female   19         3      PhD  Administration   \n",
       "3    Software Engineer    Male   20         5  Masters           Sales   \n",
       "4     Graphic Designer    Male   26         5  Masters     Engineering   \n",
       "\n",
       "   seniority       basePay        bonus  random      totalPay  \n",
       "0          2  17831.923077  7644.615385       0  25476.538462  \n",
       "1          5  44254.327359  8560.000000       0  52814.327359  \n",
       "2          5  35526.153846  3564.615385       1  39090.769231  \n",
       "3          4  41374.145446  7810.769231       0  49184.914677  \n",
       "4          5  41274.488125  7168.461538       0  48442.949663  "
      ]
     },
     "execution_count": 4,
     "metadata": {},
     "output_type": "execute_result"
    }
   ],
   "source": [
    "raw_data.head()"
   ]
  },
  {
   "cell_type": "code",
   "execution_count": 5,
   "id": "5c0e1610-f114-499c-91bb-f14a7a81be70",
   "metadata": {
    "jupyter": {
     "source_hidden": true
    }
   },
   "outputs": [],
   "source": [
    "target=raw_data.totalPay\n",
    "raw_features =raw_data.drop([\"basePay\", \"totalPay\", \"jobTitle\", \"bonus\", \"random\"], axis=1)\n",
    "features=pd.get_dummies(raw_features, drop_first=True)"
   ]
  },
  {
   "cell_type": "code",
   "execution_count": 6,
   "id": "96595062-4861-4192-aa82-3381df10df04",
   "metadata": {
    "jupyter": {
     "source_hidden": true
    }
   },
   "outputs": [
    {
     "data": {
      "text/html": [
       "<div>\n",
       "<style scoped>\n",
       "    .dataframe tbody tr th:only-of-type {\n",
       "        vertical-align: middle;\n",
       "    }\n",
       "\n",
       "    .dataframe tbody tr th {\n",
       "        vertical-align: top;\n",
       "    }\n",
       "\n",
       "    .dataframe thead th {\n",
       "        text-align: right;\n",
       "    }\n",
       "</style>\n",
       "<table border=\"1\" class=\"dataframe\">\n",
       "  <thead>\n",
       "    <tr style=\"text-align: right;\">\n",
       "      <th></th>\n",
       "      <th>age</th>\n",
       "      <th>perfEval</th>\n",
       "      <th>seniority</th>\n",
       "      <th>gender_Male</th>\n",
       "      <th>edu_High School</th>\n",
       "      <th>edu_Masters</th>\n",
       "      <th>edu_PhD</th>\n",
       "      <th>dept_Engineering</th>\n",
       "      <th>dept_Management</th>\n",
       "      <th>dept_Operations</th>\n",
       "      <th>dept_Sales</th>\n",
       "    </tr>\n",
       "  </thead>\n",
       "  <tbody>\n",
       "    <tr>\n",
       "      <th>0</th>\n",
       "      <td>18</td>\n",
       "      <td>5</td>\n",
       "      <td>2</td>\n",
       "      <td>0</td>\n",
       "      <td>0</td>\n",
       "      <td>0</td>\n",
       "      <td>0</td>\n",
       "      <td>0</td>\n",
       "      <td>0</td>\n",
       "      <td>1</td>\n",
       "      <td>0</td>\n",
       "    </tr>\n",
       "    <tr>\n",
       "      <th>1</th>\n",
       "      <td>21</td>\n",
       "      <td>5</td>\n",
       "      <td>5</td>\n",
       "      <td>1</td>\n",
       "      <td>0</td>\n",
       "      <td>0</td>\n",
       "      <td>0</td>\n",
       "      <td>0</td>\n",
       "      <td>1</td>\n",
       "      <td>0</td>\n",
       "      <td>0</td>\n",
       "    </tr>\n",
       "    <tr>\n",
       "      <th>2</th>\n",
       "      <td>19</td>\n",
       "      <td>3</td>\n",
       "      <td>5</td>\n",
       "      <td>0</td>\n",
       "      <td>0</td>\n",
       "      <td>0</td>\n",
       "      <td>1</td>\n",
       "      <td>0</td>\n",
       "      <td>0</td>\n",
       "      <td>0</td>\n",
       "      <td>0</td>\n",
       "    </tr>\n",
       "    <tr>\n",
       "      <th>3</th>\n",
       "      <td>20</td>\n",
       "      <td>5</td>\n",
       "      <td>4</td>\n",
       "      <td>1</td>\n",
       "      <td>0</td>\n",
       "      <td>1</td>\n",
       "      <td>0</td>\n",
       "      <td>0</td>\n",
       "      <td>0</td>\n",
       "      <td>0</td>\n",
       "      <td>1</td>\n",
       "    </tr>\n",
       "    <tr>\n",
       "      <th>4</th>\n",
       "      <td>26</td>\n",
       "      <td>5</td>\n",
       "      <td>5</td>\n",
       "      <td>1</td>\n",
       "      <td>0</td>\n",
       "      <td>1</td>\n",
       "      <td>0</td>\n",
       "      <td>1</td>\n",
       "      <td>0</td>\n",
       "      <td>0</td>\n",
       "      <td>0</td>\n",
       "    </tr>\n",
       "  </tbody>\n",
       "</table>\n",
       "</div>"
      ],
      "text/plain": [
       "   age  perfEval  seniority  gender_Male  edu_High School  edu_Masters  \\\n",
       "0   18         5          2            0                0            0   \n",
       "1   21         5          5            1                0            0   \n",
       "2   19         3          5            0                0            0   \n",
       "3   20         5          4            1                0            1   \n",
       "4   26         5          5            1                0            1   \n",
       "\n",
       "   edu_PhD  dept_Engineering  dept_Management  dept_Operations  dept_Sales  \n",
       "0        0                 0                0                1           0  \n",
       "1        0                 0                1                0           0  \n",
       "2        1                 0                0                0           0  \n",
       "3        0                 0                0                0           1  \n",
       "4        0                 1                0                0           0  "
      ]
     },
     "execution_count": 6,
     "metadata": {},
     "output_type": "execute_result"
    }
   ],
   "source": [
    "features.head()"
   ]
  },
  {
   "cell_type": "markdown",
   "id": "3dd0cdf5-0f12-485d-a894-7518a1cab618",
   "metadata": {
    "jupyter": {
     "source_hidden": true
    },
    "tags": []
   },
   "source": [
    "## Descriptive Data Analysis"
   ]
  },
  {
   "cell_type": "markdown",
   "id": "d9035804-bc73-4ad8-9d6b-9442f3927214",
   "metadata": {
    "jupyter": {
     "source_hidden": true
    },
    "tags": []
   },
   "source": [
    "### Checking for Correlation"
   ]
  },
  {
   "cell_type": "code",
   "execution_count": 7,
   "id": "59b7b5e7-e9db-43e6-ad89-4be2b6ad2963",
   "metadata": {
    "jupyter": {
     "source_hidden": true
    }
   },
   "outputs": [
    {
     "name": "stdout",
     "output_type": "stream",
     "text": [
      "age: (0.5864808196936204, 1.9120505464328286e-93)\n",
      "perfEval: (0.08264237006109747, 0.008933562826664302)\n",
      "seniority: (0.4431618631334328, 2.3491352656765678e-49)\n",
      "gender_Male: (0.1894087180884588, 1.5713743852868366e-09)\n"
     ]
    }
   ],
   "source": [
    "print(\"age:\", pearsonr(target, features.age)) # returns correlation and p-value (smaller means more indication of a non-coincidental result)\n",
    "print(\"perfEval:\", pearsonr(target, features.perfEval))\n",
    "print(\"seniority:\", pearsonr(target, features.seniority))\n",
    "print(\"gender_Male:\", pearsonr(target, features.gender_Male))"
   ]
  },
  {
   "cell_type": "code",
   "execution_count": 8,
   "id": "64b1fabf-2044-4e99-bfe0-4fb654d10b0d",
   "metadata": {
    "jupyter": {
     "source_hidden": true
    }
   },
   "outputs": [
    {
     "data": {
      "text/plain": [
       "<matplotlib.collections.PathCollection at 0x16ba0a98fd0>"
      ]
     },
     "execution_count": 8,
     "metadata": {},
     "output_type": "execute_result"
    },
    {
     "data": {
      "image/png": "[encoded data removed]",
      "text/plain": [
       "<Figure size 432x288 with 1 Axes>"
      ]
     },
     "metadata": {
      "needs_background": "light"
     },
     "output_type": "display_data"
    }
   ],
   "source": [
    "plt.scatter(raw_data.age, target)"
   ]
  },
  {
   "cell_type": "code",
   "execution_count": 9,
   "id": "57c47a06-ee10-422b-b7f7-9ec8f52a1baa",
   "metadata": {
    "jupyter": {
     "source_hidden": true
    }
   },
   "outputs": [
    {
     "data": {
      "text/plain": [
       "<matplotlib.collections.PathCollection at 0x16ba0b925b0>"
      ]
     },
     "execution_count": 9,
     "metadata": {},
     "output_type": "execute_result"
    },
    {
     "data": {
      "image/png": "[encoded data removed]",
      "text/plain": [
       "<Figure size 432x288 with 1 Axes>"
      ]
     },
     "metadata": {
      "needs_background": "light"
     },
     "output_type": "display_data"
    }
   ],
   "source": [
    "plt.scatter(raw_data.perfEval, target)"
   ]
  },
  {
   "cell_type": "code",
   "execution_count": 10,
   "id": "e0c05563-ef65-465c-8cba-8139c43760a3",
   "metadata": {
    "jupyter": {
     "source_hidden": true
    }
   },
   "outputs": [
    {
     "data": {
      "text/plain": [
       "<matplotlib.collections.PathCollection at 0x16ba0becc10>"
      ]
     },
     "execution_count": 10,
     "metadata": {},
     "output_type": "execute_result"
    },
    {
     "data": {
      "image/png": "[encoded data removed]",
      "text/plain": [
       "<Figure size 432x288 with 1 Axes>"
      ]
     },
     "metadata": {
      "needs_background": "light"
     },
     "output_type": "display_data"
    }
   ],
   "source": [
    "plt.scatter(raw_data.seniority, target)"
   ]
  },
  {
   "cell_type": "markdown",
   "id": "86430ec9-27e2-4a92-b54f-e0b3d59009b8",
   "metadata": {
    "jupyter": {
     "source_hidden": true
    },
    "tags": []
   },
   "source": [
    "Plots are nice, but often deceptive. Even though the two above plots look similar, the correlation they are supposed to show is absolutely not similar!"
   ]
  },
  {
   "cell_type": "markdown",
   "id": "fa358534-4895-4add-8414-02691f87dd81",
   "metadata": {
    "jupyter": {
     "source_hidden": true
    },
    "tags": []
   },
   "source": [
    "### Analysis By Linear Regression on the Full Dataset"
   ]
  },
  {
   "cell_type": "code",
   "execution_count": 11,
   "id": "d95e3c89-6e62-4bcf-b847-3e69cbea63d9",
   "metadata": {
    "jupyter": {
     "source_hidden": true
    }
   },
   "outputs": [
    {
     "data": {
      "text/html": [
       "<style>#sk-container-id-1 {color: black;background-color: white;}#sk-container-id-1 pre{padding: 0;}#sk-container-id-1 div.sk-toggleable {background-color: white;}#sk-container-id-1 label.sk-toggleable__label {cursor: pointer;display: block;width: 100%;margin-bottom: 0;padding: 0.3em;box-sizing: border-box;text-align: center;}#sk-container-id-1 label.sk-toggleable__label-arrow:before {content: \"▸\";float: left;margin-right: 0.25em;color: #696969;}#sk-container-id-1 label.sk-toggleable__label-arrow:hover:before {color: black;}#sk-container-id-1 div.sk-estimator:hover label.sk-toggleable__label-arrow:before {color: black;}#sk-container-id-1 div.sk-toggleable__content {max-height: 0;max-width: 0;overflow: hidden;text-align: left;background-color: #f0f8ff;}#sk-container-id-1 div.sk-toggleable__content pre {margin: 0.2em;color: black;border-radius: 0.25em;background-color: #f0f8ff;}#sk-container-id-1 input.sk-toggleable__control:checked~div.sk-toggleable__content {max-height: 200px;max-width: 100%;overflow: auto;}#sk-container-id-1 input.sk-toggleable__control:checked~label.sk-toggleable__label-arrow:before {content: \"▾\";}#sk-container-id-1 div.sk-estimator input.sk-toggleable__control:checked~label.sk-toggleable__label {background-color: #d4ebff;}#sk-container-id-1 div.sk-label input.sk-toggleable__control:checked~label.sk-toggleable__label {background-color: #d4ebff;}#sk-container-id-1 input.sk-hidden--visually {border: 0;clip: rect(1px 1px 1px 1px);clip: rect(1px, 1px, 1px, 1px);height: 1px;margin: -1px;overflow: hidden;padding: 0;position: absolute;width: 1px;}#sk-container-id-1 div.sk-estimator {font-family: monospace;background-color: #f0f8ff;border: 1px dotted black;border-radius: 0.25em;box-sizing: border-box;margin-bottom: 0.5em;}#sk-container-id-1 div.sk-estimator:hover {background-color: #d4ebff;}#sk-container-id-1 div.sk-parallel-item::after {content: \"\";width: 100%;border-bottom: 1px solid gray;flex-grow: 1;}#sk-container-id-1 div.sk-label:hover label.sk-toggleable__label {background-color: #d4ebff;}#sk-container-id-1 div.sk-serial::before {content: \"\";position: absolute;border-left: 1px solid gray;box-sizing: border-box;top: 0;bottom: 0;left: 50%;z-index: 0;}#sk-container-id-1 div.sk-serial {display: flex;flex-direction: column;align-items: center;background-color: white;padding-right: 0.2em;padding-left: 0.2em;position: relative;}#sk-container-id-1 div.sk-item {position: relative;z-index: 1;}#sk-container-id-1 div.sk-parallel {display: flex;align-items: stretch;justify-content: center;background-color: white;position: relative;}#sk-container-id-1 div.sk-item::before, #sk-container-id-1 div.sk-parallel-item::before {content: \"\";position: absolute;border-left: 1px solid gray;box-sizing: border-box;top: 0;bottom: 0;left: 50%;z-index: -1;}#sk-container-id-1 div.sk-parallel-item {display: flex;flex-direction: column;z-index: 1;position: relative;background-color: white;}#sk-container-id-1 div.sk-parallel-item:first-child::after {align-self: flex-end;width: 50%;}#sk-container-id-1 div.sk-parallel-item:last-child::after {align-self: flex-start;width: 50%;}#sk-container-id-1 div.sk-parallel-item:only-child::after {width: 0;}#sk-container-id-1 div.sk-dashed-wrapped {border: 1px dashed gray;margin: 0 0.4em 0.5em 0.4em;box-sizing: border-box;padding-bottom: 0.4em;background-color: white;}#sk-container-id-1 div.sk-label label {font-family: monospace;font-weight: bold;display: inline-block;line-height: 1.2em;}#sk-container-id-1 div.sk-label-container {text-align: center;}#sk-container-id-1 div.sk-container {/* jupyter's `normalize.less` sets `[hidden] { display: none; }` but bootstrap.min.css set `[hidden] { display: none !important; }` so we also need the `!important` here to be able to override the default hidden behavior on the sphinx rendered scikit-learn.org. See: https://github.com/scikit-learn/scikit-learn/issues/21755 */display: inline-block !important;position: relative;}#sk-container-id-1 div.sk-text-repr-fallback {display: none;}</style><div id=\"sk-container-id-1\" class=\"sk-top-container\"><div class=\"sk-text-repr-fallback\"><pre>LinearRegression()</pre><b>In a Jupyter environment, please rerun this cell to show the HTML representation or trust the notebook. <br />On GitHub, the HTML representation is unable to render, please try loading this page with nbviewer.org.</b></div><div class=\"sk-container\" hidden><div class=\"sk-item\"><div class=\"sk-estimator sk-toggleable\"><input class=\"sk-toggleable__control sk-hidden--visually\" id=\"sk-estimator-id-1\" type=\"checkbox\" checked><label for=\"sk-estimator-id-1\" class=\"sk-toggleable__label sk-toggleable__label-arrow\">LinearRegression</label><div class=\"sk-toggleable__content\"><pre>LinearRegression()</pre></div></div></div></div></div>"
      ],
      "text/plain": [
       "LinearRegression()"
      ]
     },
     "execution_count": 11,
     "metadata": {},
     "output_type": "execute_result"
    }
   ],
   "source": [
    "reg_full= LinearRegression()\n",
    "reg_full.fit(np.array(features), target)"
   ]
  },
  {
   "cell_type": "code",
   "execution_count": 12,
   "id": "6d88b533-14da-4477-8fb0-0ce357e5e64d",
   "metadata": {
    "jupyter": {
     "source_hidden": true
    }
   },
   "outputs": [
    {
     "data": {
      "text/plain": [
       "0.6332995687605143"
      ]
     },
     "execution_count": 12,
     "metadata": {},
     "output_type": "execute_result"
    }
   ],
   "source": [
    "r2_score(target, reg_full.predict(np.array(features)))"
   ]
  },
  {
   "cell_type": "markdown",
   "id": "0724ccff-fdee-4f8a-8803-55d3428d4ce0",
   "metadata": {
    "jupyter": {
     "source_hidden": true
    },
    "tags": []
   },
   "source": [
    "There is still some unexplained variance in the data."
   ]
  },
  {
   "cell_type": "code",
   "execution_count": 13,
   "id": "3ce90fa2-2811-40cd-a1ae-bede20d426b4",
   "metadata": {
    "jupyter": {
     "source_hidden": true
    }
   },
   "outputs": [
    {
     "data": {
      "text/plain": [
       "array([  693.40899889,   959.39111084,  5314.11734147,  6351.90818824,\n",
       "       -1686.68908512,  2121.40247172,  2663.03679388,  4016.97433706,\n",
       "        4760.02439806,   -56.17017371,  1960.35274979])"
      ]
     },
     "execution_count": 13,
     "metadata": {},
     "output_type": "execute_result"
    }
   ],
   "source": [
    "w=reg_full.coef_\n",
    "w"
   ]
  },
  {
   "cell_type": "code",
   "execution_count": 14,
   "id": "a7b469f7-0f87-482a-9323-7ab919da89ef",
   "metadata": {
    "jupyter": {
     "source_hidden": true
    }
   },
   "outputs": [
    {
     "name": "stdout",
     "output_type": "stream",
     "text": [
      "age 693.4089988909451\n",
      "perfEval 959.391110841008\n",
      "seniority 5314.117341467803\n",
      "gender_Male 6351.90818824222\n",
      "edu_High School -1686.689085118144\n",
      "edu_Masters 2121.40247171905\n",
      "edu_PhD 2663.036793883483\n",
      "dept_Engineering 4016.9743370641154\n",
      "dept_Management 4760.0243980649575\n",
      "dept_Operations -56.17017371365371\n",
      "dept_Sales 1960.3527497910973\n"
     ]
    }
   ],
   "source": [
    "for i in range(0, len(features.columns)): \n",
    "    print(features.columns[i], w[i])"
   ]
  },
  {
   "cell_type": "markdown",
   "id": "3fab1287-3e2f-4084-afa5-488be8560eed",
   "metadata": {
    "jupyter": {
     "source_hidden": true
    },
    "tags": []
   },
   "source": [
    "Interpretation Examples of the model: Ceteris Paribus\n",
    "* aging a year correlates with a total pay increase of 693 dollars\n",
    "* with high school as highest education (instead of college) decreases total pay by -1687 dollars, wheras a PhD increases the total py by 2663 dollars\n",
    "* departments Engineering and Management lead to higher sallaries than Operations and Sales\n",
    "* males receive 6352 dollars more than females\n",
    "\n",
    "These assumptions are only correct under the assumption that the learned model fully describes the data!\n",
    "\n",
    "The population parameters are NO measure for correlation (compare e.g. age and perfEval!)"
   ]
  },
  {
   "cell_type": "code",
   "execution_count": 16,
   "id": "8d312c0a-bea7-455e-82be-dcea680bb139",
   "metadata": {
    "jupyter": {
     "source_hidden": true
    }
   },
   "outputs": [
    {
     "data": {
      "image/png": "[encoded data removed]",
      "text/plain": [
       "<Figure size 432x288 with 1 Axes>"
      ]
     },
     "metadata": {
      "needs_background": "light"
     },
     "output_type": "display_data"
    }
   ],
   "source": [
    "plt.scatter(range(0, len(target)), target-reg_full.predict(np.array(features)))\n",
    "plt.savefig('residuals.pdf')"
   ]
  },
  {
   "cell_type": "markdown",
   "id": "7e0b7166-4e89-420f-8dac-f9731b6ce181",
   "metadata": {
    "jupyter": {
     "source_hidden": true
    },
    "tags": []
   },
   "source": [
    "The residuals plot reveals high residuals, but no particular (non-random) behavior."
   ]
  },
  {
   "cell_type": "markdown",
   "id": "20cf09bf-c3ef-401f-8620-f9a58fe498a5",
   "metadata": {
    "jupyter": {
     "source_hidden": true
    },
    "tags": []
   },
   "source": [
    "### Using Linear Regression to Investigate Specific Variables"
   ]
  },
  {
   "cell_type": "code",
   "execution_count": 17,
   "id": "5b387706-6cd5-441f-9c88-0d8ac93b3618",
   "metadata": {
    "jupyter": {
     "source_hidden": true
    }
   },
   "outputs": [],
   "source": [
    "reg_age = LinearRegression()\n",
    "reg_age.fit(np.expand_dims(np.array(raw_data.age), axis=1), target)\n",
    "w=reg_age.coef_\n",
    "b=reg_age.intercept_\n",
    "age_space=np.arange(0,70,1)\n",
    "y=reg_age.predict(age_space.reshape(-1,1))"
   ]
  },
  {
   "cell_type": "code",
   "execution_count": 18,
   "id": "add41912-02ea-40d9-8340-209265cb35a2",
   "metadata": {
    "jupyter": {
     "source_hidden": true
    }
   },
   "outputs": [
    {
     "data": {
      "text/plain": [
       "0.3439597518685017"
      ]
     },
     "execution_count": 18,
     "metadata": {},
     "output_type": "execute_result"
    }
   ],
   "source": [
    "r2_score(target, reg_age.predict(np.array(raw_data[[\"age\"]])))"
   ]
  },
  {
   "cell_type": "markdown",
   "id": "d0783c70-2c13-4c63-a0de-ad337d2b9a70",
   "metadata": {
    "jupyter": {
     "source_hidden": true
    },
    "tags": []
   },
   "source": [
    "There is (of cause) much more unexplained variance."
   ]
  },
  {
   "cell_type": "code",
   "execution_count": 19,
   "id": "7bbf4ac2-1271-4699-bcd9-33e6f4844f57",
   "metadata": {
    "jupyter": {
     "source_hidden": true
    }
   },
   "outputs": [
    {
     "data": {
      "text/plain": [
       "[<matplotlib.lines.Line2D at 0x16ba970e850>]"
      ]
     },
     "execution_count": 19,
     "metadata": {},
     "output_type": "execute_result"
    },
    {
     "data": {
      "image/png": "[encoded data removed]",
      "text/plain": [
       "<Figure size 432x288 with 1 Axes>"
      ]
     },
     "metadata": {
      "needs_background": "light"
     },
     "output_type": "display_data"
    }
   ],
   "source": [
    "plt.scatter(raw_data.age, target)\n",
    "plt.plot(age_space, y, c='black')"
   ]
  },
  {
   "cell_type": "markdown",
   "id": "1a022bbb-4499-4a98-9192-2c1de386b7f4",
   "metadata": {
    "jupyter": {
     "source_hidden": true
    },
    "tags": []
   },
   "source": [
    "### Investigate Two Variables\n",
    "Equal-Slopes method (assumption: both features are independent)"
   ]
  },
  {
   "cell_type": "code",
   "execution_count": 20,
   "id": "691607ef-188e-4cb4-9a3e-15e725b9617e",
   "metadata": {
    "jupyter": {
     "source_hidden": true
    }
   },
   "outputs": [
    {
     "data": {
      "text/html": [
       "<style>#sk-container-id-2 {color: black;background-color: white;}#sk-container-id-2 pre{padding: 0;}#sk-container-id-2 div.sk-toggleable {background-color: white;}#sk-container-id-2 label.sk-toggleable__label {cursor: pointer;display: block;width: 100%;margin-bottom: 0;padding: 0.3em;box-sizing: border-box;text-align: center;}#sk-container-id-2 label.sk-toggleable__label-arrow:before {content: \"▸\";float: left;margin-right: 0.25em;color: #696969;}#sk-container-id-2 label.sk-toggleable__label-arrow:hover:before {color: black;}#sk-container-id-2 div.sk-estimator:hover label.sk-toggleable__label-arrow:before {color: black;}#sk-container-id-2 div.sk-toggleable__content {max-height: 0;max-width: 0;overflow: hidden;text-align: left;background-color: #f0f8ff;}#sk-container-id-2 div.sk-toggleable__content pre {margin: 0.2em;color: black;border-radius: 0.25em;background-color: #f0f8ff;}#sk-container-id-2 input.sk-toggleable__control:checked~div.sk-toggleable__content {max-height: 200px;max-width: 100%;overflow: auto;}#sk-container-id-2 input.sk-toggleable__control:checked~label.sk-toggleable__label-arrow:before {content: \"▾\";}#sk-container-id-2 div.sk-estimator input.sk-toggleable__control:checked~label.sk-toggleable__label {background-color: #d4ebff;}#sk-container-id-2 div.sk-label input.sk-toggleable__control:checked~label.sk-toggleable__label {background-color: #d4ebff;}#sk-container-id-2 input.sk-hidden--visually {border: 0;clip: rect(1px 1px 1px 1px);clip: rect(1px, 1px, 1px, 1px);height: 1px;margin: -1px;overflow: hidden;padding: 0;position: absolute;width: 1px;}#sk-container-id-2 div.sk-estimator {font-family: monospace;background-color: #f0f8ff;border: 1px dotted black;border-radius: 0.25em;box-sizing: border-box;margin-bottom: 0.5em;}#sk-container-id-2 div.sk-estimator:hover {background-color: #d4ebff;}#sk-container-id-2 div.sk-parallel-item::after {content: \"\";width: 100%;border-bottom: 1px solid gray;flex-grow: 1;}#sk-container-id-2 div.sk-label:hover label.sk-toggleable__label {background-color: #d4ebff;}#sk-container-id-2 div.sk-serial::before {content: \"\";position: absolute;border-left: 1px solid gray;box-sizing: border-box;top: 0;bottom: 0;left: 50%;z-index: 0;}#sk-container-id-2 div.sk-serial {display: flex;flex-direction: column;align-items: center;background-color: white;padding-right: 0.2em;padding-left: 0.2em;position: relative;}#sk-container-id-2 div.sk-item {position: relative;z-index: 1;}#sk-container-id-2 div.sk-parallel {display: flex;align-items: stretch;justify-content: center;background-color: white;position: relative;}#sk-container-id-2 div.sk-item::before, #sk-container-id-2 div.sk-parallel-item::before {content: \"\";position: absolute;border-left: 1px solid gray;box-sizing: border-box;top: 0;bottom: 0;left: 50%;z-index: -1;}#sk-container-id-2 div.sk-parallel-item {display: flex;flex-direction: column;z-index: 1;position: relative;background-color: white;}#sk-container-id-2 div.sk-parallel-item:first-child::after {align-self: flex-end;width: 50%;}#sk-container-id-2 div.sk-parallel-item:last-child::after {align-self: flex-start;width: 50%;}#sk-container-id-2 div.sk-parallel-item:only-child::after {width: 0;}#sk-container-id-2 div.sk-dashed-wrapped {border: 1px dashed gray;margin: 0 0.4em 0.5em 0.4em;box-sizing: border-box;padding-bottom: 0.4em;background-color: white;}#sk-container-id-2 div.sk-label label {font-family: monospace;font-weight: bold;display: inline-block;line-height: 1.2em;}#sk-container-id-2 div.sk-label-container {text-align: center;}#sk-container-id-2 div.sk-container {/* jupyter's `normalize.less` sets `[hidden] { display: none; }` but bootstrap.min.css set `[hidden] { display: none !important; }` so we also need the `!important` here to be able to override the default hidden behavior on the sphinx rendered scikit-learn.org. See: https://github.com/scikit-learn/scikit-learn/issues/21755 */display: inline-block !important;position: relative;}#sk-container-id-2 div.sk-text-repr-fallback {display: none;}</style><div id=\"sk-container-id-2\" class=\"sk-top-container\"><div class=\"sk-text-repr-fallback\"><pre>LinearRegression()</pre><b>In a Jupyter environment, please rerun this cell to show the HTML representation or trust the notebook. <br />On GitHub, the HTML representation is unable to render, please try loading this page with nbviewer.org.</b></div><div class=\"sk-container\" hidden><div class=\"sk-item\"><div class=\"sk-estimator sk-toggleable\"><input class=\"sk-toggleable__control sk-hidden--visually\" id=\"sk-estimator-id-2\" type=\"checkbox\" checked><label for=\"sk-estimator-id-2\" class=\"sk-toggleable__label sk-toggleable__label-arrow\">LinearRegression</label><div class=\"sk-toggleable__content\"><pre>LinearRegression()</pre></div></div></div></div></div>"
      ],
      "text/plain": [
       "LinearRegression()"
      ]
     },
     "execution_count": 20,
     "metadata": {},
     "output_type": "execute_result"
    }
   ],
   "source": [
    "reg_age_sen = LinearRegression()\n",
    "reg_age_sen.fit(np.array(raw_data[[\"age\", \"seniority\"]]), target)"
   ]
  },
  {
   "cell_type": "code",
   "execution_count": 21,
   "id": "33ef8231-94b8-41b0-a252-63f72cd34bc8",
   "metadata": {
    "jupyter": {
     "source_hidden": true
    }
   },
   "outputs": [
    {
     "data": {
      "text/plain": [
       "0.551736382442495"
      ]
     },
     "execution_count": 21,
     "metadata": {},
     "output_type": "execute_result"
    }
   ],
   "source": [
    "r2_score(target, reg_age_sen.predict(np.array(raw_data[[\"age\", \"seniority\"]])))"
   ]
  },
  {
   "cell_type": "code",
   "execution_count": 22,
   "id": "1417e528-c35f-4258-ac97-54b3c1734339",
   "metadata": {
    "jupyter": {
     "source_hidden": true
    }
   },
   "outputs": [],
   "source": [
    "age_space=np.arange(0,70,1)\n",
    "seniority_space=np.arange(1,6,1)"
   ]
  },
  {
   "cell_type": "code",
   "execution_count": 23,
   "id": "1951d306-d45b-430d-b6f3-80fd8a541ddb",
   "metadata": {
    "jupyter": {
     "source_hidden": true
    }
   },
   "outputs": [
    {
     "data": {
      "text/plain": [
       "<matplotlib.legend.Legend at 0x16ba9733fd0>"
      ]
     },
     "execution_count": 23,
     "metadata": {},
     "output_type": "execute_result"
    },
    {
     "data": {
      "image/png": "[encoded data removed]",
      "text/plain": [
       "<Figure size 432x288 with 1 Axes>"
      ]
     },
     "metadata": {
      "needs_background": "light"
     },
     "output_type": "display_data"
    }
   ],
   "source": [
    "plt.scatter(raw_data.age, raw_data.totalPay)\n",
    "for s in range(0,len(seniority_space), 1):\n",
    "    grid=np.stack((age_space, seniority_space[s]*np.ones_like(age_space)), axis=1)\n",
    "    y=reg_age_sen.predict(grid)\n",
    "    plt.plot(age_space, y, label=seniority_space[s])\n",
    "plt.legend()"
   ]
  },
  {
   "cell_type": "markdown",
   "id": "4b044546-48db-4d41-ac01-28f8f4eea992",
   "metadata": {
    "jupyter": {
     "source_hidden": true
    },
    "tags": []
   },
   "source": [
    "higher age and higher seniority correlate positively with higher total pay\n",
    "Linear model -> parallel slopes. Alterantive: Compute own models for each seniority level (treat different seniorities as different populations)"
   ]
  },
  {
   "cell_type": "markdown",
   "id": "222f4385-3c15-4635-ac11-2744c09f7a83",
   "metadata": {
    "jupyter": {
     "source_hidden": true
    },
    "tags": []
   },
   "source": [
    "# Evaluation of Machine Learning Models"
   ]
  },
  {
   "cell_type": "code",
   "execution_count": 24,
   "id": "d4a48188-c731-4eee-ad9d-0678f7301b28",
   "metadata": {
    "jupyter": {
     "source_hidden": true
    }
   },
   "outputs": [],
   "source": [
    "inner_cv = KFold(n_splits=10, shuffle=True, random_state=0)\n",
    "outer_cv = KFold(n_splits=10, shuffle=True, random_state=1)\n",
    "\n",
    "\n",
    "def evaluate_classifier(model):\n",
    "    res = cross_val_score(model, X, y, cv=outer_cv, n_jobs=5, scoring='neg_mean_squared_error')\n",
    "    print(f\"The mean accuracy of the outer cross validation: \"\n",
    "      f\"{res.mean():.3f} +/- {res.std():.3f}\") \n",
    "\n",
    "def print_eval(result):\n",
    "    #print(result, 3)\n",
    "    print(\"{:,.2f}\".format(np.round(res.mean(), 3)), \"±\", \"{:,.2f}\".format(np.round(res.std(), 3)))"
   ]
  },
  {
   "cell_type": "markdown",
   "id": "be52f69b-6ad9-41fc-aa4b-48541e30dbb8",
   "metadata": {
    "jupyter": {
     "source_hidden": true
    },
    "tags": []
   },
   "source": [
    "## Linear Regression"
   ]
  },
  {
   "cell_type": "code",
   "execution_count": 25,
   "id": "3134aa16-2cc5-40fd-ac35-81fd9dad5703",
   "metadata": {
    "jupyter": {
     "source_hidden": true
    },
    "tags": []
   },
   "outputs": [
    {
     "name": "stdout",
     "output_type": "stream",
     "text": [
      "-99,700,681.39 ± 16,051,977.04\n"
     ]
    }
   ],
   "source": [
    "res=cross_val_score(LinearRegression(), np.array(features), target, cv=outer_cv, n_jobs=5, scoring='neg_mean_squared_error')\n",
    "print_eval(res)"
   ]
  },
  {
   "cell_type": "markdown",
   "id": "8a44ebd5-c6ce-4688-bbed-29d170d71373",
   "metadata": {
    "jupyter": {
     "source_hidden": true
    },
    "tags": []
   },
   "source": [
    "## Polynomial Regression"
   ]
  },
  {
   "cell_type": "code",
   "execution_count": 26,
   "id": "0ae5b05e-41b4-49c9-b74e-7bebae623c7c",
   "metadata": {
    "jupyter": {
     "source_hidden": true
    }
   },
   "outputs": [
    {
     "name": "stdout",
     "output_type": "stream",
     "text": [
      "(1000, 11)\n",
      "(1000, 1365)\n"
     ]
    },
    {
     "data": {
      "text/html": [
       "<style>#sk-container-id-3 {color: black;background-color: white;}#sk-container-id-3 pre{padding: 0;}#sk-container-id-3 div.sk-toggleable {background-color: white;}#sk-container-id-3 label.sk-toggleable__label {cursor: pointer;display: block;width: 100%;margin-bottom: 0;padding: 0.3em;box-sizing: border-box;text-align: center;}#sk-container-id-3 label.sk-toggleable__label-arrow:before {content: \"▸\";float: left;margin-right: 0.25em;color: #696969;}#sk-container-id-3 label.sk-toggleable__label-arrow:hover:before {color: black;}#sk-container-id-3 div.sk-estimator:hover label.sk-toggleable__label-arrow:before {color: black;}#sk-container-id-3 div.sk-toggleable__content {max-height: 0;max-width: 0;overflow: hidden;text-align: left;background-color: #f0f8ff;}#sk-container-id-3 div.sk-toggleable__content pre {margin: 0.2em;color: black;border-radius: 0.25em;background-color: #f0f8ff;}#sk-container-id-3 input.sk-toggleable__control:checked~div.sk-toggleable__content {max-height: 200px;max-width: 100%;overflow: auto;}#sk-container-id-3 input.sk-toggleable__control:checked~label.sk-toggleable__label-arrow:before {content: \"▾\";}#sk-container-id-3 div.sk-estimator input.sk-toggleable__control:checked~label.sk-toggleable__label {background-color: #d4ebff;}#sk-container-id-3 div.sk-label input.sk-toggleable__control:checked~label.sk-toggleable__label {background-color: #d4ebff;}#sk-container-id-3 input.sk-hidden--visually {border: 0;clip: rect(1px 1px 1px 1px);clip: rect(1px, 1px, 1px, 1px);height: 1px;margin: -1px;overflow: hidden;padding: 0;position: absolute;width: 1px;}#sk-container-id-3 div.sk-estimator {font-family: monospace;background-color: #f0f8ff;border: 1px dotted black;border-radius: 0.25em;box-sizing: border-box;margin-bottom: 0.5em;}#sk-container-id-3 div.sk-estimator:hover {background-color: #d4ebff;}#sk-container-id-3 div.sk-parallel-item::after {content: \"\";width: 100%;border-bottom: 1px solid gray;flex-grow: 1;}#sk-container-id-3 div.sk-label:hover label.sk-toggleable__label {background-color: #d4ebff;}#sk-container-id-3 div.sk-serial::before {content: \"\";position: absolute;border-left: 1px solid gray;box-sizing: border-box;top: 0;bottom: 0;left: 50%;z-index: 0;}#sk-container-id-3 div.sk-serial {display: flex;flex-direction: column;align-items: center;background-color: white;padding-right: 0.2em;padding-left: 0.2em;position: relative;}#sk-container-id-3 div.sk-item {position: relative;z-index: 1;}#sk-container-id-3 div.sk-parallel {display: flex;align-items: stretch;justify-content: center;background-color: white;position: relative;}#sk-container-id-3 div.sk-item::before, #sk-container-id-3 div.sk-parallel-item::before {content: \"\";position: absolute;border-left: 1px solid gray;box-sizing: border-box;top: 0;bottom: 0;left: 50%;z-index: -1;}#sk-container-id-3 div.sk-parallel-item {display: flex;flex-direction: column;z-index: 1;position: relative;background-color: white;}#sk-container-id-3 div.sk-parallel-item:first-child::after {align-self: flex-end;width: 50%;}#sk-container-id-3 div.sk-parallel-item:last-child::after {align-self: flex-start;width: 50%;}#sk-container-id-3 div.sk-parallel-item:only-child::after {width: 0;}#sk-container-id-3 div.sk-dashed-wrapped {border: 1px dashed gray;margin: 0 0.4em 0.5em 0.4em;box-sizing: border-box;padding-bottom: 0.4em;background-color: white;}#sk-container-id-3 div.sk-label label {font-family: monospace;font-weight: bold;display: inline-block;line-height: 1.2em;}#sk-container-id-3 div.sk-label-container {text-align: center;}#sk-container-id-3 div.sk-container {/* jupyter's `normalize.less` sets `[hidden] { display: none; }` but bootstrap.min.css set `[hidden] { display: none !important; }` so we also need the `!important` here to be able to override the default hidden behavior on the sphinx rendered scikit-learn.org. See: https://github.com/scikit-learn/scikit-learn/issues/21755 */display: inline-block !important;position: relative;}#sk-container-id-3 div.sk-text-repr-fallback {display: none;}</style><div id=\"sk-container-id-3\" class=\"sk-top-container\"><div class=\"sk-text-repr-fallback\"><pre>LinearRegression()</pre><b>In a Jupyter environment, please rerun this cell to show the HTML representation or trust the notebook. <br />On GitHub, the HTML representation is unable to render, please try loading this page with nbviewer.org.</b></div><div class=\"sk-container\" hidden><div class=\"sk-item\"><div class=\"sk-estimator sk-toggleable\"><input class=\"sk-toggleable__control sk-hidden--visually\" id=\"sk-estimator-id-3\" type=\"checkbox\" checked><label for=\"sk-estimator-id-3\" class=\"sk-toggleable__label sk-toggleable__label-arrow\">LinearRegression</label><div class=\"sk-toggleable__content\"><pre>LinearRegression()</pre></div></div></div></div></div>"
      ],
      "text/plain": [
       "LinearRegression()"
      ]
     },
     "execution_count": 26,
     "metadata": {},
     "output_type": "execute_result"
    }
   ],
   "source": [
    "poly=PolynomialFeatures(degree=4)\n",
    "X_poly=poly.fit_transform(np.array(features))\n",
    "print(features.shape)\n",
    "print(X_poly.shape)\n",
    "reg=LinearRegression()\n",
    "reg.fit(X_poly,target)\n"
   ]
  },
  {
   "cell_type": "code",
   "execution_count": 27,
   "id": "41957037-a6ba-4770-b772-b9bb3359b1be",
   "metadata": {
    "jupyter": {
     "source_hidden": true
    }
   },
   "outputs": [
    {
     "data": {
      "text/plain": [
       "0.8446086966291131"
      ]
     },
     "execution_count": 27,
     "metadata": {},
     "output_type": "execute_result"
    }
   ],
   "source": [
    "r2_score(target, reg.predict(X_poly))"
   ]
  },
  {
   "cell_type": "markdown",
   "id": "59de967d-eb1e-4dab-a7c6-dada20984b64",
   "metadata": {
    "jupyter": {
     "source_hidden": true
    },
    "tags": []
   },
   "source": [
    "The significantly(!) more complex model explains the variance better. But, does it overfit? -> Proper ML Evaluation"
   ]
  },
  {
   "cell_type": "code",
   "execution_count": 28,
   "id": "bfd0648c-9ccf-494c-bb40-2204ba7fe251",
   "metadata": {
    "jupyter": {
     "source_hidden": true
    }
   },
   "outputs": [],
   "source": [
    "class PolynomialRegression(BaseEstimator):\n",
    "    def __init__(self, degree=1):\n",
    "        self.degree = degree\n",
    "    \n",
    "    def fit(self, X, y, degree=None):\n",
    "        self.model = LinearRegression(fit_intercept=False) # polynomial features create a feature with degree 0: 1\n",
    "        self.poly_feature=PolynomialFeatures(degree=self.degree)\n",
    "        X_poly=self.poly_feature.fit_transform(X)\n",
    "        self.model.fit(X_poly, y)\n",
    "    \n",
    "    def predict(self, X):\n",
    "        return self.model.predict(self.poly_feature.transform(X))\n",
    "    \n",
    "    def coef_(self):\n",
    "        return self.model.coef_\n"
   ]
  },
  {
   "cell_type": "code",
   "execution_count": 29,
   "id": "ac4008a1-3b1c-42f4-a362-fb27cdbb39d0",
   "metadata": {
    "jupyter": {
     "source_hidden": true
    }
   },
   "outputs": [
    {
     "name": "stdout",
     "output_type": "stream",
     "text": [
      "-80,676,098.19 ± 10,825,993.27\n"
     ]
    }
   ],
   "source": [
    "poly_reg=PolynomialRegression()\n",
    "\n",
    "poly_reg_grid={\n",
    "    'degree':[1,2,3,4]\n",
    "}\n",
    "poly_reg_grid_cv = GridSearchCV(\n",
    "    estimator=poly_reg, param_grid=poly_reg_grid, cv=inner_cv, n_jobs=5, scoring='neg_mean_squared_error')\n",
    "res=cross_val_score(poly_reg_grid_cv, np.array(features), target, cv=outer_cv, n_jobs=5, scoring='neg_mean_squared_error')\n",
    "\n",
    "print_eval(res)"
   ]
  },
  {
   "cell_type": "code",
   "execution_count": 30,
   "id": "2f8c3d40-34e2-4e4a-bea4-73be0634ef2d",
   "metadata": {
    "jupyter": {
     "source_hidden": true
    }
   },
   "outputs": [
    {
     "data": {
      "text/plain": [
       "{'degree': 2}"
      ]
     },
     "execution_count": 30,
     "metadata": {},
     "output_type": "execute_result"
    }
   ],
   "source": [
    "poly_reg_grid_cv.fit(features,target)\n",
    "poly_reg_grid_cv.best_params_"
   ]
  },
  {
   "cell_type": "markdown",
   "id": "12bedac2-544d-47f7-9f22-f6475346da6d",
   "metadata": {
    "jupyter": {
     "source_hidden": true
    },
    "tags": []
   },
   "source": [
    "Interpretation of polynomial regression is much more difficult. However, additional non-linear variable allow a better fit to the data."
   ]
  }
 ],
 "metadata": {
  "kernelspec": {
   "display_name": "ap",
   "language": "python",
   "name": "ap"
  },
  "language_info": {
   "codemirror_mode": {
    "name": "ipython",
    "version": 3
   },
   "file_extension": ".py",
   "mimetype": "text/x-python",
   "name": "python",
   "nbconvert_exporter": "python",
   "pygments_lexer": "ipython3",
   "version": "3.9.6"
  }
 },
 "nbformat": 4,
 "nbformat_minor": 5
}
