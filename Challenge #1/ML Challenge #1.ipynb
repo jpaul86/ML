{
 "cells": [
  {
   "cell_type": "markdown",
   "metadata": {},
   "source": [
    "# \"Challenge #1\"\n",
    "    MADS-ML\n",
    "    Jannik Paul"
   ]
  },
  {
   "cell_type": "code",
   "execution_count": 1,
   "metadata": {},
   "outputs": [],
   "source": [
    "# standards\n",
    "import pandas as pd\n",
    "import numpy as np\n",
    "\n",
    "# sklearn\n",
    "from sklearn.model_selection import train_test_split\n",
    "from sklearn import metrics\n",
    "from sklearn.ensemble import RandomForestClassifier\n",
    "\n",
    "# graphics\n",
    "import seaborn as sns\n",
    "import matplotlib.pyplot as plt\n",
    "%matplotlib inline\n",
    "\n",
    "# FutureWarnings\n",
    "import warnings\n",
    "warnings.simplefilter(action='ignore', category=FutureWarning)"
   ]
  },
  {
   "cell_type": "markdown",
   "metadata": {},
   "source": [
    "# Exercise 1  \n",
    "**1.1.**  \n",
    ">Consider the following two parametrizations:  \n",
    ">a) k = 1, Euclidean distance, distance-based voting  \n",
    ">b) k = 1, Euclidean distance, uniform voting  \n",
    ">What can be said about the relation between the accuracies of the two resulting classifiers on the test data? Explain your answer.  \n",
    "\n",
    "With *uniform voting*, we do not consider the distance between new data points and their k-nearest neighbors, so the neighbors all equally influence the prediction.  \n",
    "With *distance-based voting*, this is different: The further away a neighbor is, the more weight it loses for the prediction.  \n",
    "\n",
    "Now if we just use one neighbor as in k=1 for the sample size, while remaining in the *same* distance metric like Euclidean based on sqrt(sum((x - y)^2)), of course the resulting accuracies in both distance-based voting and uniform voting will be the same.  \n",
    "After all we are just watching one neighbor and not a multitude of neighbors, which then would have different fractional weights amongst themselves for the prediction, one neighbor influencing the result more heavily than another.  \n",
    "\n",
    "Hence with k=1 the neighbor will be weighted as 1 (100%) in both the uniform and distance-based approach.\n",
    "If we however find the best k later, maybe via cross-validation, then the differences become apparent. The uniform voting in Euclidean distance then usually provides less accuracy the larger than 1 our k grows during our testing.\n",
    "\n",
    "\n",
    "\n"
   ]
  },
  {
   "cell_type": "markdown",
   "metadata": {},
   "source": [
    "**1.2.**  \n",
    ">Consider the following two parametrizations:  \n",
    ">a) k = 1, Mahattan distance, distance-based voting  \n",
    ">b) k = 2, Euclidean distance, uniform voting  \n",
    ">What can be said about the relation between the accuracies of the two classifiers on the test data? Explain your answer.  \n",
    "\n",
    "Here we are not just looking at the prediction accuracy of one vs two neighbors. We are also looking at a different *metric* used in a), Manhattan distance which is defined by sum(|x - y|), we is looking at the absolute distance between two points in the standard coordinate system. Hence the correlation of different features is not considered here.  \n",
    "\n",
    "Since we are using k=1 for the Manhattan distance, we can really flip uniform or distance-based voting around without affecting the result, as we remain in the same metric and just look at one neighbor.  \n",
    "For k=2 in Euclidean distance however, we do get a lower score than we would get with distance-based, but are now in a *multidimensional* space to begin with, measuring the absolute distance between various points there.  \n",
    "\n",
    "However, we are comparing two different metrics here – *without having a certain dataset provided!*  \n",
    "\n",
    "One set may react better to Manhattan than to Euclidean, and another dataset vice versa.  \n",
    "\n",
    "If we had a dataset provided on which we could run the two different metrics, we could find out which one results in better accuracies, or even decide up ahead which metric could fit better, for example with Euclidean when different features exist but not strongly correlated. Without a fixed dataset however, a comparison here with claims to accuracies, which are influenced by a dataset itself, would hence be claims we should not make.\n"
   ]
  },
  {
   "cell_type": "markdown",
   "metadata": {},
   "source": [
    "# Exercise 2  \n",
    "**2.1.**  \n",
    ">Describe the relation between Random Forests and Decision Trees (for classification). Among others, address the goal of the algorithms, learning process, feature selection during learning, test and training data, the split criterion.\n",
    "\n",
    "The most obvious relation between Random Forests and Decision Trees for classification is that Random Forests are based on a multitude of Decision Trees.  \n",
    "\n",
    "The Decision Trees’ goal is to solve regression and classification problems by creating a training model that can get used to predict a class or value of a target variable. However, Decision Trees tend to overfit to their training set, especially as the size of the tree gets larger, and Random Forests’ goal is to correct that by constructing a multitude of Decision Trees to then select the class put out by most Trees (in the case of classification problems, not regression).  \n",
    "\n",
    "During the learning process of Decision Trees the original dataset is first preprocessed, then split into training and test data, then the former root data (full training data) gets continuously split binarily into nodes as subsets of the root (or further down the branch of the parent nodes), based on tests answered binarily on the data at hand. These subsets then get tested and also split again, until a category is met at the end of the tree (at the leaves) and no further test is done. This way the Decision Tree can learn the class of a subset of the analyzed dataset, on whose test data part the model is then later run on and evaluated. Random Forests do it similarly, but multiple times on random subsets, and then select the class for a given subset which have been most often selected by the multitude of Decision Trees working on the same problem.  \n",
    "\n",
    "The Random Forest however does not simply repeat that. It takes the initial training and test split differently, as it copies (not cuts) random subsets of our original dataset repeatedly, which is a contrast to a split which cuts. This is called bootstrapping and secures that not every tree uses the same data. Random Forest then trains each tree individually by selecting a random subset of features for each bootstrapped subset – while building a forest of different trees with different branches and different roots – showing off their leaves.  \n",
    "\n",
    "The initial feature selection and split strategy is done by employing methods such as the Gini Impurity, or Entropy- or Information Gain (which was covered in the exercise), with a simple tree up ahead in which we look at how well the features (let’s call them x) predict another selected feature (y), and run the data down the tree. We then quantify the impurity of the leaves per x to predict y for example here in the Gini Impurity and select the lowest averagely weighted impurity score. Now we know which feature x from x to select. We cannot cover all cases but in this example, a split criterion would be that nodes have become pure (hence impurity = 0, all data instances belong to the same class) or if there are no feature-based splits left (no more split attributes are available), so they end as leaves in our tree. We’ll look at them further in 2.2.\n"
   ]
  },
  {
   "cell_type": "markdown",
   "metadata": {},
   "source": [
    "**2.2.**  \n",
    ">Compare the Random Forest and the Decision Tree Classifier in *sklearn* by discussing the parameters *n_estimators*, *criterion*, and *max_depth*.\n",
    "\n",
    "*n_estimators*\n",
    "- The parameter controls the number of decision trees in the forest.  \n",
    "- It is *only* applicable to the Random Forest, because just here we use a multitude of decision trees. *If* it existed in Decision Tree, it would equal 1.  \n",
    "\n",
    "*criterion*\n",
    "- This enables a function to measure the quality of a split and is used for splitting nodes of a decision tree. The *gini* criterion measures impurity and is less computationally expensive, while the *entropy* criterion considers information gain and obtains slightly better results.  \n",
    "- Criterion gets applied for the nodes in *both* Decision Tree and Random Forest and defaults to gini, due to almost resulting in the same quality with much less performance required.\n",
    "\n",
    "*max_depth*\n",
    "- This defines the maximum depth of a tree, which refers to the maximum amount of steps from root node to furthest leaf node. If it is not defined, there will be no limit and the trees expand until all leaves are pure (boolean) or the threshold of min_samples_split is met within a node.  \n",
    "- The max_depth parameter can be applied to *both* Decision Tree and Random Forest."
   ]
  },
  {
   "cell_type": "markdown",
   "metadata": {},
   "source": [
    "**2.3.**  \n",
    ">Compare the two algorithms with respect to their application: Which are the immediate advantages and disadvantages of Random Forest *over* Decision Tree?  \n",
    "\n",
    "*Advantages*:  \n",
    "- One advantage of Random Forest over Decision Trees is that it reduces the risk of overfitting, because it is not using the same root data for every tree and is thus much less sensitive to the original training data.  \n",
    "\n",
    "- Another advantage is that Random Forest produces less variance than Decision Tree, because it uses multiple trees to create multiple predictions which are then aggregated, instead of just going through a tree towards a single one.  \n",
    "\n",
    "- Random Forest achieves better balanced accuracy on test data.  \n",
    "\n",
    "- Random Forest can be used for classification and regression problems.  \n",
    "\n",
    "- Random Forest allows to get the relative feature importance, which helps in selecting the most contributing features.  \n",
    "\n",
    "*Disadvantages*:  \n",
    "- An immediate disadvantage is that Random Forest is more computationally expensive than Decision Tree.  \n",
    "\n",
    "- Another disadvantage is that Random Forest is more difficult and complex to implement.\n",
    "\n"
   ]
  },
  {
   "cell_type": "markdown",
   "metadata": {},
   "source": [
    "# Exercise 3  \n",
    "Data Acquisition"
   ]
  },
  {
   "cell_type": "code",
   "execution_count": 2,
   "metadata": {},
   "outputs": [
    {
     "name": "stdout",
     "output_type": "stream",
     "text": [
      "<class 'pandas.core.frame.DataFrame'>\n",
      "RangeIndex: 12330 entries, 0 to 12329\n",
      "Data columns (total 18 columns):\n",
      " #   Column                   Non-Null Count  Dtype  \n",
      "---  ------                   --------------  -----  \n",
      " 0   Administrative           12330 non-null  int64  \n",
      " 1   Administrative_Duration  12330 non-null  float64\n",
      " 2   Informational            12330 non-null  int64  \n",
      " 3   Informational_Duration   12330 non-null  float64\n",
      " 4   ProductRelated           12330 non-null  int64  \n",
      " 5   ProductRelated_Duration  12330 non-null  float64\n",
      " 6   BounceRates              12330 non-null  float64\n",
      " 7   ExitRates                12330 non-null  float64\n",
      " 8   PageValues               12330 non-null  float64\n",
      " 9   SpecialDay               12330 non-null  float64\n",
      " 10  Month                    12330 non-null  object \n",
      " 11  OperatingSystems         12330 non-null  int64  \n",
      " 12  Browser                  12330 non-null  int64  \n",
      " 13  Region                   12330 non-null  int64  \n",
      " 14  TrafficType              12330 non-null  int64  \n",
      " 15  VisitorType              12330 non-null  object \n",
      " 16  Weekend                  12330 non-null  bool   \n",
      " 17  Revenue                  12330 non-null  bool   \n",
      "dtypes: bool(2), float64(7), int64(7), object(2)\n",
      "memory usage: 1.5+ MB\n"
     ]
    }
   ],
   "source": [
    "df = pd.read_csv('data/online_shoppers_intention.csv')\n",
    "# Let's see the types and if there are any null values\n",
    "df.info() "
   ]
  },
  {
   "cell_type": "markdown",
   "metadata": {},
   "source": [
    "**3.1.**  \n",
    ">How many numerical and how many categorial features does the dataset offer with respect to the above research question?  \n",
    ">Note: Categorial features can be represented numerically, but still are categorial features!"
   ]
  },
  {
   "cell_type": "code",
   "execution_count": 3,
   "metadata": {},
   "outputs": [
    {
     "data": {
      "text/html": [
       "<div>\n",
       "<style scoped>\n",
       "    .dataframe tbody tr th:only-of-type {\n",
       "        vertical-align: middle;\n",
       "    }\n",
       "\n",
       "    .dataframe tbody tr th {\n",
       "        vertical-align: top;\n",
       "    }\n",
       "\n",
       "    .dataframe thead th {\n",
       "        text-align: right;\n",
       "    }\n",
       "</style>\n",
       "<table border=\"1\" class=\"dataframe\">\n",
       "  <thead>\n",
       "    <tr style=\"text-align: right;\">\n",
       "      <th></th>\n",
       "      <th>Administrative</th>\n",
       "      <th>Administrative_Duration</th>\n",
       "      <th>Informational</th>\n",
       "      <th>Informational_Duration</th>\n",
       "      <th>ProductRelated</th>\n",
       "      <th>ProductRelated_Duration</th>\n",
       "      <th>BounceRates</th>\n",
       "      <th>ExitRates</th>\n",
       "      <th>PageValues</th>\n",
       "      <th>SpecialDay</th>\n",
       "      <th>Month</th>\n",
       "      <th>OperatingSystems</th>\n",
       "      <th>Browser</th>\n",
       "      <th>Region</th>\n",
       "      <th>TrafficType</th>\n",
       "      <th>VisitorType</th>\n",
       "      <th>Weekend</th>\n",
       "      <th>Revenue</th>\n",
       "    </tr>\n",
       "  </thead>\n",
       "  <tbody>\n",
       "    <tr>\n",
       "      <th>0</th>\n",
       "      <td>0</td>\n",
       "      <td>0.0</td>\n",
       "      <td>0</td>\n",
       "      <td>0.0</td>\n",
       "      <td>1</td>\n",
       "      <td>0.000000</td>\n",
       "      <td>0.20</td>\n",
       "      <td>0.20</td>\n",
       "      <td>0.0</td>\n",
       "      <td>0.0</td>\n",
       "      <td>Feb</td>\n",
       "      <td>1</td>\n",
       "      <td>1</td>\n",
       "      <td>1</td>\n",
       "      <td>1</td>\n",
       "      <td>Returning_Visitor</td>\n",
       "      <td>False</td>\n",
       "      <td>False</td>\n",
       "    </tr>\n",
       "    <tr>\n",
       "      <th>1</th>\n",
       "      <td>0</td>\n",
       "      <td>0.0</td>\n",
       "      <td>0</td>\n",
       "      <td>0.0</td>\n",
       "      <td>2</td>\n",
       "      <td>64.000000</td>\n",
       "      <td>0.00</td>\n",
       "      <td>0.10</td>\n",
       "      <td>0.0</td>\n",
       "      <td>0.0</td>\n",
       "      <td>Feb</td>\n",
       "      <td>2</td>\n",
       "      <td>2</td>\n",
       "      <td>1</td>\n",
       "      <td>2</td>\n",
       "      <td>Returning_Visitor</td>\n",
       "      <td>False</td>\n",
       "      <td>False</td>\n",
       "    </tr>\n",
       "    <tr>\n",
       "      <th>2</th>\n",
       "      <td>0</td>\n",
       "      <td>0.0</td>\n",
       "      <td>0</td>\n",
       "      <td>0.0</td>\n",
       "      <td>1</td>\n",
       "      <td>0.000000</td>\n",
       "      <td>0.20</td>\n",
       "      <td>0.20</td>\n",
       "      <td>0.0</td>\n",
       "      <td>0.0</td>\n",
       "      <td>Feb</td>\n",
       "      <td>4</td>\n",
       "      <td>1</td>\n",
       "      <td>9</td>\n",
       "      <td>3</td>\n",
       "      <td>Returning_Visitor</td>\n",
       "      <td>False</td>\n",
       "      <td>False</td>\n",
       "    </tr>\n",
       "    <tr>\n",
       "      <th>3</th>\n",
       "      <td>0</td>\n",
       "      <td>0.0</td>\n",
       "      <td>0</td>\n",
       "      <td>0.0</td>\n",
       "      <td>2</td>\n",
       "      <td>2.666667</td>\n",
       "      <td>0.05</td>\n",
       "      <td>0.14</td>\n",
       "      <td>0.0</td>\n",
       "      <td>0.0</td>\n",
       "      <td>Feb</td>\n",
       "      <td>3</td>\n",
       "      <td>2</td>\n",
       "      <td>2</td>\n",
       "      <td>4</td>\n",
       "      <td>Returning_Visitor</td>\n",
       "      <td>False</td>\n",
       "      <td>False</td>\n",
       "    </tr>\n",
       "    <tr>\n",
       "      <th>4</th>\n",
       "      <td>0</td>\n",
       "      <td>0.0</td>\n",
       "      <td>0</td>\n",
       "      <td>0.0</td>\n",
       "      <td>10</td>\n",
       "      <td>627.500000</td>\n",
       "      <td>0.02</td>\n",
       "      <td>0.05</td>\n",
       "      <td>0.0</td>\n",
       "      <td>0.0</td>\n",
       "      <td>Feb</td>\n",
       "      <td>3</td>\n",
       "      <td>3</td>\n",
       "      <td>1</td>\n",
       "      <td>4</td>\n",
       "      <td>Returning_Visitor</td>\n",
       "      <td>True</td>\n",
       "      <td>False</td>\n",
       "    </tr>\n",
       "  </tbody>\n",
       "</table>\n",
       "</div>"
      ],
      "text/plain": [
       "   Administrative  Administrative_Duration  Informational  \\\n",
       "0               0                      0.0              0   \n",
       "1               0                      0.0              0   \n",
       "2               0                      0.0              0   \n",
       "3               0                      0.0              0   \n",
       "4               0                      0.0              0   \n",
       "\n",
       "   Informational_Duration  ProductRelated  ProductRelated_Duration  \\\n",
       "0                     0.0               1                 0.000000   \n",
       "1                     0.0               2                64.000000   \n",
       "2                     0.0               1                 0.000000   \n",
       "3                     0.0               2                 2.666667   \n",
       "4                     0.0              10               627.500000   \n",
       "\n",
       "   BounceRates  ExitRates  PageValues  SpecialDay Month  OperatingSystems  \\\n",
       "0         0.20       0.20         0.0         0.0   Feb                 1   \n",
       "1         0.00       0.10         0.0         0.0   Feb                 2   \n",
       "2         0.20       0.20         0.0         0.0   Feb                 4   \n",
       "3         0.05       0.14         0.0         0.0   Feb                 3   \n",
       "4         0.02       0.05         0.0         0.0   Feb                 3   \n",
       "\n",
       "   Browser  Region  TrafficType        VisitorType  Weekend  Revenue  \n",
       "0        1       1            1  Returning_Visitor    False    False  \n",
       "1        2       1            2  Returning_Visitor    False    False  \n",
       "2        1       9            3  Returning_Visitor    False    False  \n",
       "3        2       2            4  Returning_Visitor    False    False  \n",
       "4        3       1            4  Returning_Visitor     True    False  "
      ]
     },
     "execution_count": 3,
     "metadata": {},
     "output_type": "execute_result"
    }
   ],
   "source": [
    "df.head()"
   ]
  },
  {
   "cell_type": "markdown",
   "metadata": {},
   "source": [
    "First of all, we could explore the raw data and imagine what may be what, but what should never be skipped is to read the documentation from the authors themselves. All the information is in there in the attribute information.  \n",
    "\n",
    "Among the columns we can't count our target Revenue, it is properly mentioned as useable as the class label.  \n",
    "\n",
    "The **numerical features are mentioned to be 10**, and the categorial *would be 8* but we are looking at it in respect to the research question which is aiming at the class label, hence the **categorial features to use for this are 7**.\n",
    "\n",
    "We could transform several of the categorial features into numbers, however they would remain categorial features."
   ]
  },
  {
   "cell_type": "markdown",
   "metadata": {},
   "source": [
    "**3.2.**  \n",
    ">Describe and comment on the class distribution in the dataset."
   ]
  },
  {
   "cell_type": "code",
   "execution_count": 4,
   "metadata": {},
   "outputs": [
    {
     "data": {
      "text/plain": [
       "<seaborn.axisgrid.FacetGrid at 0x23d0ab30dc0>"
      ]
     },
     "execution_count": 4,
     "metadata": {},
     "output_type": "execute_result"
    },
    {
     "data": {
      "image/png": "[encoded data removed]",
      "text/plain": [
       "<Figure size 360x360 with 1 Axes>"
      ]
     },
     "metadata": {
      "needs_background": "light"
     },
     "output_type": "display_data"
    }
   ],
   "source": [
    "# Exploring a bit, looking at the first feature\n",
    "sns.displot(data=df, x='Administrative', kde=True)"
   ]
  },
  {
   "cell_type": "code",
   "execution_count": 5,
   "metadata": {},
   "outputs": [
    {
     "data": {
      "text/plain": [
       "Administrative                2.315166\n",
       "Administrative_Duration      80.818611\n",
       "Informational                 0.503569\n",
       "Informational_Duration       34.472398\n",
       "ProductRelated               31.731468\n",
       "ProductRelated_Duration    1194.746220\n",
       "BounceRates                   0.022191\n",
       "ExitRates                     0.043073\n",
       "PageValues                    5.889258\n",
       "SpecialDay                    0.061427\n",
       "dtype: float64"
      ]
     },
     "execution_count": 5,
     "metadata": {},
     "output_type": "execute_result"
    }
   ],
   "source": [
    "df.iloc[:,0:10].apply(np.mean)"
   ]
  },
  {
   "cell_type": "markdown",
   "metadata": {},
   "source": [
    "We do not need to look far to suspect already that the numerical features could be unevenly distributed."
   ]
  },
  {
   "cell_type": "code",
   "execution_count": 6,
   "metadata": {},
   "outputs": [
    {
     "data": {
      "text/plain": [
       "Administrative                27.000000\n",
       "Administrative_Duration     3398.750000\n",
       "Informational                 24.000000\n",
       "Informational_Duration      2549.375000\n",
       "ProductRelated               705.000000\n",
       "ProductRelated_Duration    63973.522230\n",
       "BounceRates                    0.200000\n",
       "ExitRates                      0.200000\n",
       "PageValues                   361.763742\n",
       "SpecialDay                     1.000000\n",
       "dtype: float64"
      ]
     },
     "execution_count": 6,
     "metadata": {},
     "output_type": "execute_result"
    }
   ],
   "source": [
    "df.iloc[:,0:10].apply(np.max)"
   ]
  },
  {
   "cell_type": "markdown",
   "metadata": {},
   "source": [
    "Right away we see that the distribution is **unevenly scaled**, if we compare the largest here like 'ProductRelated_Duration' at **63974** to a tiny one like the first one 'Administrative' at just **27**!.\n",
    "\n",
    "We also notice there are **a few high outliers in several features**, by seeing that the maxima are far away from the means.  "
   ]
  },
  {
   "cell_type": "code",
   "execution_count": 7,
   "metadata": {},
   "outputs": [
    {
     "data": {
      "text/plain": [
       "Returning_Visitor    10551\n",
       "New_Visitor           1694\n",
       "Other                   85\n",
       "Name: VisitorType, dtype: int64"
      ]
     },
     "execution_count": 7,
     "metadata": {},
     "output_type": "execute_result"
    }
   ],
   "source": [
    "df['VisitorType'].value_counts()"
   ]
  },
  {
   "cell_type": "markdown",
   "metadata": {},
   "source": [
    "Let's check out a categorial feature as well. Looking at the Dataset, 'VisitorType' offers itself for it. We see that most sales take from returning visitors.  "
   ]
  },
  {
   "cell_type": "code",
   "execution_count": 8,
   "metadata": {},
   "outputs": [
    {
     "data": {
      "text/plain": [
       "<seaborn.axisgrid.FacetGrid at 0x23d0cd82970>"
      ]
     },
     "execution_count": 8,
     "metadata": {},
     "output_type": "execute_result"
    },
    {
     "data": {
      "image/png": "[encoded data removed]",
      "text/plain": [
       "<Figure size 360x360 with 1 Axes>"
      ]
     },
     "metadata": {
      "needs_background": "light"
     },
     "output_type": "display_data"
    }
   ],
   "source": [
    "sns.displot(df['BounceRates'],kde=True, bins=21)"
   ]
  },
  {
   "cell_type": "code",
   "execution_count": 9,
   "metadata": {},
   "outputs": [
    {
     "data": {
      "text/plain": [
       "<seaborn.axisgrid.FacetGrid at 0x23d0ce450d0>"
      ]
     },
     "execution_count": 9,
     "metadata": {},
     "output_type": "execute_result"
    },
    {
     "data": {
      "image/png": "[encoded data removed]",
      "text/plain": [
       "<Figure size 360x360 with 1 Axes>"
      ]
     },
     "metadata": {
      "needs_background": "light"
     },
     "output_type": "display_data"
    }
   ],
   "source": [
    "sns.displot(df['ExitRates'],kde=True, bins=21)"
   ]
  },
  {
   "cell_type": "markdown",
   "metadata": {},
   "source": [
    "\n",
    "The BounceRates and ExitRates are already at a similar scale and by name alone indicate already that there's some connection. We take a look at if there *may* be any relation between them."
   ]
  },
  {
   "cell_type": "code",
   "execution_count": 10,
   "metadata": {},
   "outputs": [
    {
     "data": {
      "text/plain": [
       "<seaborn.axisgrid.JointGrid at 0x23d0ce01670>"
      ]
     },
     "execution_count": 10,
     "metadata": {},
     "output_type": "execute_result"
    },
    {
     "data": {
      "image/png": "[encoded data removed]",
      "text/plain": [
       "<Figure size 432x432 with 3 Axes>"
      ]
     },
     "metadata": {
      "needs_background": "light"
     },
     "output_type": "display_data"
    }
   ],
   "source": [
    "sns.jointplot(x='BounceRates',y='ExitRates',data=df, kind='kde')"
   ]
  },
  {
   "cell_type": "markdown",
   "metadata": {},
   "source": [
    "So we see, some distributions *may* even be connected. Here there seems to be some gravitas beyond planet Pluto."
   ]
  },
  {
   "cell_type": "markdown",
   "metadata": {},
   "source": [
    "# Exercise 4  \n",
    "**4.1.**  \n",
    ">Restricting the data to the features: [list of features]"
   ]
  },
  {
   "cell_type": "code",
   "execution_count": 11,
   "metadata": {},
   "outputs": [],
   "source": [
    "X = df.copy()"
   ]
  },
  {
   "cell_type": "code",
   "execution_count": 12,
   "metadata": {},
   "outputs": [],
   "source": [
    "X.drop(['Month', 'VisitorType', 'Weekend', 'Revenue'], axis=1, inplace=True)"
   ]
  },
  {
   "cell_type": "code",
   "execution_count": 13,
   "metadata": {},
   "outputs": [
    {
     "name": "stdout",
     "output_type": "stream",
     "text": [
      "Administrative\n",
      "Administrative_Duration\n",
      "Informational\n",
      "Informational_Duration\n",
      "ProductRelated\n",
      "ProductRelated_Duration\n",
      "BounceRates\n",
      "ExitRates\n",
      "PageValues\n",
      "SpecialDay\n",
      "OperatingSystems\n",
      "Browser\n",
      "Region\n",
      "TrafficType\n"
     ]
    }
   ],
   "source": [
    "for col in X.columns:\n",
    "    print(col)"
   ]
  },
  {
   "cell_type": "markdown",
   "metadata": {},
   "source": [
    "First we copy the dataset into a new object X. As we will drop columns, we shall not forget to use .copy, or we'd just create a new variable. Operating on X would then refer to the same object and also drop columns in df! We also want to keep 'Revenue' available.\n",
    "\n"
   ]
  },
  {
   "cell_type": "markdown",
   "metadata": {},
   "source": [
    "**4.2**.  \n",
    ">Splitting the target attribute from the data."
   ]
  },
  {
   "cell_type": "code",
   "execution_count": 14,
   "metadata": {},
   "outputs": [],
   "source": [
    "y = df['Revenue'].astype(int)"
   ]
  },
  {
   "cell_type": "code",
   "execution_count": 15,
   "metadata": {},
   "outputs": [
    {
     "data": {
      "text/plain": [
       "((12330, 14), (12330,))"
      ]
     },
     "execution_count": 15,
     "metadata": {},
     "output_type": "execute_result"
    }
   ],
   "source": [
    "X.shape, y.shape"
   ]
  },
  {
   "cell_type": "markdown",
   "metadata": {},
   "source": [
    "Good we kept df as an unaltered object."
   ]
  },
  {
   "cell_type": "markdown",
   "metadata": {},
   "source": [
    "**4.3.**  \n",
    ">Selecting 30% of the data as test data."
   ]
  },
  {
   "cell_type": "code",
   "execution_count": 16,
   "metadata": {},
   "outputs": [],
   "source": [
    "X_train, X_test, y_train, y_test = train_test_split(X, y, test_size = .3, random_state = 42, stratify=y)"
   ]
  },
  {
   "cell_type": "code",
   "execution_count": 17,
   "metadata": {},
   "outputs": [
    {
     "name": "stdout",
     "output_type": "stream",
     "text": [
      "(8631, 14) (8631,) (3699, 14) (3699,)\n"
     ]
    }
   ],
   "source": [
    "print(X_train.shape, y_train.shape, X_test.shape, y_test.shape)"
   ]
  },
  {
   "cell_type": "markdown",
   "metadata": {},
   "source": [
    "**4.4.**  \n",
    ">Create a function for adding configurations and results of an experiment to a dataframe."
   ]
  },
  {
   "cell_type": "code",
   "execution_count": 18,
   "metadata": {},
   "outputs": [],
   "source": [
    "configurations = []\n",
    "evaluations = []\n",
    "df_results = pd.DataFrame()"
   ]
  },
  {
   "cell_type": "markdown",
   "metadata": {},
   "source": [
    "Create a dataframe with empty columns and two lists for storing the configurations and results."
   ]
  },
  {
   "cell_type": "code",
   "execution_count": 19,
   "metadata": {},
   "outputs": [],
   "source": [
    "def results_function(y_true, y_predict):\n",
    "    b_accuracy = metrics.balanced_accuracy_score(y_true, y_predict)\n",
    "    accuracy = metrics.accuracy_score(y_true, y_predict)\n",
    "    return [b_accuracy, accuracy]"
   ]
  },
  {
   "cell_type": "markdown",
   "metadata": {},
   "source": [
    "Defining the function to return the results, configurations will also be taken.\n",
    "\n",
    "Note this is the basis for the functionality. *We do not know what we are dealing with at this stage*, so we add to the function in the following exercises."
   ]
  },
  {
   "cell_type": "markdown",
   "metadata": {},
   "source": [
    "# Exercise 5  \n",
    ">Run experiments for learning and testing different parametrizations of Random Forest.\n",
    ">1. Number of trees: 1, 10, or 100.  \n",
    ">2. Maximum tree depth: 2, 3, 5, or 10.  \n",
    "\n",
    ">In your experiments\n",
    ">1. use the train-test-split from above,  \n",
    ">2. use default parameters for all other than the above,  \n",
    ">3. repeat each experiment 10 times using the seeds 1 through 10 to init Random Forest,\n",
    ">4. add the results and configurations to the data frame using the method created above."
   ]
  },
  {
   "cell_type": "code",
   "execution_count": 20,
   "metadata": {},
   "outputs": [
    {
     "name": "stdout",
     "output_type": "stream",
     "text": [
      "Configuration: n_estimator = 1 , max_depth = 2 , random_state = 1\n",
      "Balanced Accuracy: 0.5\n",
      "Accuracy: 0.8453636117869695\n"
     ]
    }
   ],
   "source": [
    "# Basic experimentation, visible direct output\n",
    "\n",
    "# parameters\n",
    "n_trees = 1\n",
    "tree_depth = 2\n",
    "seeds = 1\n",
    "\n",
    "clf = RandomForestClassifier(n_estimators = n_trees, max_depth = tree_depth, random_state=seeds)\n",
    "\n",
    "\n",
    "clf.fit(X_train, y_train)\n",
    "y_pred = clf.predict(X_test)\n",
    "print(\"Configuration: n_estimator =\", n_trees,\", max_depth =\", tree_depth, \", random_state =\", seeds)\n",
    "print(\"Balanced Accuracy:\", metrics.balanced_accuracy_score(y_test, y_pred))\n",
    "print(\"Accuracy:\", metrics.accuracy_score(y_test, y_pred))\n",
    "\n",
    "# append balanced_accuracy and accuracy to evaluations list\n",
    "# evaluations.append(results_function(y_test, y_pred))\n",
    "#config = {\"Configuration: n_estimator =\", n_trees,\", max_depth =\", tree_depth, \", random_state =\", seeds}\n",
    "# config = {'n_estimator':n_trees, 'max_depth':tree_depth, 'random_state':seeds}\n",
    "# configurations.append(config)\n"
   ]
  },
  {
   "cell_type": "code",
   "execution_count": 21,
   "metadata": {},
   "outputs": [],
   "source": [
    "# Experimentation\n",
    "\n",
    "# Uses train-test-split from above\n",
    "# Uses default parameters for all other than the above\n",
    "# Repeat 10 times using the seeds 1 through 10 to initialize Random Forest\n",
    "# Add the results and configurations to the data frame\n",
    "\n",
    "n_trees = [1,10,100]\n",
    "\n",
    "for n_trees in n_trees:\n",
    "    tree_depth = [2,3,5,10]\n",
    "    for tree_depth in tree_depth:\n",
    "        for seeds in range(1,11):\n",
    "            clf = RandomForestClassifier(n_estimators = n_trees, max_depth = tree_depth, random_state=seeds)\n",
    "            clf.fit(X_train, y_train)\n",
    "            y_pred = clf.predict(X_test)\n",
    "\n",
    "            # append balanced_accuracy and accuracy to evaluations list\n",
    "            evaluations.append(results_function(y_test, y_pred))\n",
    "\n",
    "            config = {'n_estimator':n_trees, 'max_depth':tree_depth, 'random_state':seeds}\n",
    "            configurations.append(config)\n",
    "            df_configs = pd.DataFrame(configurations[1:], columns=configurations[0])\n",
    "            df_evaluations = pd.DataFrame(evaluations[1:], columns=('balanced_accuracy', 'accuracy'))\n",
    "            df_results = df_results.append(df_configs.join(df_evaluations), ignore_index=True)"
   ]
  },
  {
   "cell_type": "code",
   "execution_count": 22,
   "metadata": {},
   "outputs": [
    {
     "data": {
      "text/html": [
       "<div>\n",
       "<style scoped>\n",
       "    .dataframe tbody tr th:only-of-type {\n",
       "        vertical-align: middle;\n",
       "    }\n",
       "\n",
       "    .dataframe tbody tr th {\n",
       "        vertical-align: top;\n",
       "    }\n",
       "\n",
       "    .dataframe thead th {\n",
       "        text-align: right;\n",
       "    }\n",
       "</style>\n",
       "<table border=\"1\" class=\"dataframe\">\n",
       "  <thead>\n",
       "    <tr style=\"text-align: right;\">\n",
       "      <th></th>\n",
       "      <th>n_estimator</th>\n",
       "      <th>max_depth</th>\n",
       "      <th>random_state</th>\n",
       "      <th>balanced_accuracy</th>\n",
       "      <th>accuracy</th>\n",
       "    </tr>\n",
       "  </thead>\n",
       "  <tbody>\n",
       "    <tr>\n",
       "      <th>0</th>\n",
       "      <td>1</td>\n",
       "      <td>2</td>\n",
       "      <td>2</td>\n",
       "      <td>0.5</td>\n",
       "      <td>0.845364</td>\n",
       "    </tr>\n",
       "  </tbody>\n",
       "</table>\n",
       "</div>"
      ],
      "text/plain": [
       "  n_estimator max_depth random_state  balanced_accuracy  accuracy\n",
       "0           1         2            2                0.5  0.845364"
      ]
     },
     "execution_count": 22,
     "metadata": {},
     "output_type": "execute_result"
    }
   ],
   "source": [
    "df_results.head(1)"
   ]
  },
  {
   "cell_type": "markdown",
   "metadata": {},
   "source": [
    "# Exercise 6  \n",
    "**6.1.**  \n",
    ">Which parameter combination of the experiments yields the highest balanced accuracy (averaged over the 10 runs)?"
   ]
  },
  {
   "cell_type": "code",
   "execution_count": 23,
   "metadata": {},
   "outputs": [
    {
     "data": {
      "text/html": [
       "<div>\n",
       "<style scoped>\n",
       "    .dataframe tbody tr th:only-of-type {\n",
       "        vertical-align: middle;\n",
       "    }\n",
       "\n",
       "    .dataframe tbody tr th {\n",
       "        vertical-align: top;\n",
       "    }\n",
       "\n",
       "    .dataframe thead th {\n",
       "        text-align: right;\n",
       "    }\n",
       "</style>\n",
       "<table border=\"1\" class=\"dataframe\">\n",
       "  <thead>\n",
       "    <tr style=\"text-align: right;\">\n",
       "      <th></th>\n",
       "      <th>n_estimator</th>\n",
       "      <th>max_depth</th>\n",
       "      <th>balanced_accuracy</th>\n",
       "    </tr>\n",
       "  </thead>\n",
       "  <tbody>\n",
       "    <tr>\n",
       "      <th>0</th>\n",
       "      <td>1</td>\n",
       "      <td>2</td>\n",
       "      <td>0.637139</td>\n",
       "    </tr>\n",
       "    <tr>\n",
       "      <th>1</th>\n",
       "      <td>1</td>\n",
       "      <td>3</td>\n",
       "      <td>0.665218</td>\n",
       "    </tr>\n",
       "    <tr>\n",
       "      <th>2</th>\n",
       "      <td>1</td>\n",
       "      <td>5</td>\n",
       "      <td>0.699864</td>\n",
       "    </tr>\n",
       "    <tr>\n",
       "      <th>3</th>\n",
       "      <td>1</td>\n",
       "      <td>10</td>\n",
       "      <td>0.708223</td>\n",
       "    </tr>\n",
       "    <tr>\n",
       "      <th>4</th>\n",
       "      <td>10</td>\n",
       "      <td>2</td>\n",
       "      <td>0.505613</td>\n",
       "    </tr>\n",
       "    <tr>\n",
       "      <th>5</th>\n",
       "      <td>10</td>\n",
       "      <td>3</td>\n",
       "      <td>0.574430</td>\n",
       "    </tr>\n",
       "    <tr>\n",
       "      <th>6</th>\n",
       "      <td>10</td>\n",
       "      <td>5</td>\n",
       "      <td>0.687065</td>\n",
       "    </tr>\n",
       "    <tr>\n",
       "      <th>7</th>\n",
       "      <td>10</td>\n",
       "      <td>10</td>\n",
       "      <td>0.736760</td>\n",
       "    </tr>\n",
       "    <tr>\n",
       "      <th>8</th>\n",
       "      <td>100</td>\n",
       "      <td>2</td>\n",
       "      <td>0.500000</td>\n",
       "    </tr>\n",
       "    <tr>\n",
       "      <th>9</th>\n",
       "      <td>100</td>\n",
       "      <td>3</td>\n",
       "      <td>0.531784</td>\n",
       "    </tr>\n",
       "    <tr>\n",
       "      <th>10</th>\n",
       "      <td>100</td>\n",
       "      <td>5</td>\n",
       "      <td>0.693516</td>\n",
       "    </tr>\n",
       "    <tr>\n",
       "      <th>11</th>\n",
       "      <td>100</td>\n",
       "      <td>10</td>\n",
       "      <td>0.741072</td>\n",
       "    </tr>\n",
       "  </tbody>\n",
       "</table>\n",
       "</div>"
      ],
      "text/plain": [
       "    n_estimator  max_depth  balanced_accuracy\n",
       "0             1          2           0.637139\n",
       "1             1          3           0.665218\n",
       "2             1          5           0.699864\n",
       "3             1         10           0.708223\n",
       "4            10          2           0.505613\n",
       "5            10          3           0.574430\n",
       "6            10          5           0.687065\n",
       "7            10         10           0.736760\n",
       "8           100          2           0.500000\n",
       "9           100          3           0.531784\n",
       "10          100          5           0.693516\n",
       "11          100         10           0.741072"
      ]
     },
     "execution_count": 23,
     "metadata": {},
     "output_type": "execute_result"
    }
   ],
   "source": [
    "df_results.groupby(['n_estimator', 'max_depth'], as_index=False)['balanced_accuracy'].mean()"
   ]
  },
  {
   "cell_type": "markdown",
   "metadata": {},
   "source": [
    "Showing to have taken the balanced accuracy over 10 runs."
   ]
  },
  {
   "cell_type": "code",
   "execution_count": 24,
   "metadata": {},
   "outputs": [
    {
     "data": {
      "text/plain": [
       "n_estimator          100.000000\n",
       "max_depth             10.000000\n",
       "balanced_accuracy      0.741072\n",
       "dtype: float64"
      ]
     },
     "execution_count": 24,
     "metadata": {},
     "output_type": "execute_result"
    }
   ],
   "source": [
    "df_results.groupby(['n_estimator', 'max_depth'], as_index=False)['balanced_accuracy'].mean().max()\n"
   ]
  },
  {
   "cell_type": "markdown",
   "metadata": {},
   "source": [
    "The highest balanced accuracy (averaged over 10 runs) is achieved with 100 for number of trees and 10 for maximum tree depth. The score is 74.1072%."
   ]
  },
  {
   "cell_type": "markdown",
   "metadata": {},
   "source": [
    "**6.2.**  \n",
    ">Create diagram (Note: Singular)"
   ]
  },
  {
   "cell_type": "code",
   "execution_count": 25,
   "metadata": {},
   "outputs": [],
   "source": [
    "df_graph = df_results.groupby(['n_estimator', 'max_depth'], as_index=False)['balanced_accuracy'].agg(['mean','std']).reset_index()\n",
    "df_graph.rename(columns = {'mean':'b_accuracy_mean','std':'b_accuracy_std'}, inplace = True)"
   ]
  },
  {
   "cell_type": "markdown",
   "metadata": {},
   "source": [
    ">a) For each chosen number of trees, plot the balanced classification accuracy against the max-depth.  \n",
    ">b) Use the different runs with different seeds to plot the respective average scores together with their standard deviation."
   ]
  },
  {
   "cell_type": "code",
   "execution_count": 26,
   "metadata": {},
   "outputs": [
    {
     "data": {
      "image/png": "[encoded data removed]",
      "text/plain": [
       "<Figure size 432x288 with 1 Axes>"
      ]
     },
     "metadata": {},
     "output_type": "display_data"
    }
   ],
   "source": [
    "sns.set(style=\"ticks\")\n",
    "ax = sns.scatterplot(\n",
    "    data=df_graph, x='max_depth', y='b_accuracy_mean', style='n_estimator', hue_norm=(0, 7), legend = \"brief\", size='b_accuracy_std'\n",
    "    )\n",
    "ax.set(xlabel=\"Maximum Tree Depth\", ylabel=\"Balanced Classification Accuracy\")\n",
    "plt.grid()\n",
    "plt.show()"
   ]
  },
  {
   "cell_type": "markdown",
   "metadata": {},
   "source": [
    "**6.3.**  \n",
    ">Interpret the diagram. In particular, comment on and explain the stability of the results for different parameter choices.  \n",
    "\n",
    "The highest average balanced accuracy is reached with a (max) tree depth of 10.  \n",
    "Each icon's style represents the number of trees (n_estimator).  \n",
    "Each icon's size represents the standard deviation (b_accuracy_std).  \n",
    "\n",
    "We can see that our best score is achieved when the model uses **100 trees** and a **max depth of 10**, as it also holds a **very stable (graphically small) standard deviation**.  \n",
    "\n",
    "We also notice a few particular things:  \n",
    "The brute force approach of training 100 trees is often very tight with a small deviation, but not always best. For the tree depth=5, training 100 trees is still very competitive, as the deviation is smaller than the *seemingly* more accurate single tree!  \n",
    "\n",
    "However, with a maximum tree depth of 2, 3 the accuracy of a 100 tree forest is outmatched by single and tenner trees, even though the deviation is larger and hence indicates lower stability."
   ]
  },
  {
   "cell_type": "markdown",
   "metadata": {},
   "source": [
    "sns.set(style=\"ticks\")\n",
    "ax = sns.scatterplot(\n",
    "    data=df_graph, x='max_depth', y='balanced_accuracy', style='n_estimator', hue_norm=(0, 7), legend = \"full\"\n",
    "    )\n",
    "ax.set(xlabel=\"Maximum Tree Depth\", ylabel=\"Balanced Classification Accuracy\")\n",
    "plt.grid()\n",
    "plt.show()"
   ]
  },
  {
   "cell_type": "markdown",
   "metadata": {},
   "source": [
    "**6.4.**  \n",
    ">Which further factor influences the evaluation, that is not addressed in the current setup? How would the setup have to be modified to include that as well?  \n",
    "\n",
    "Fortuna may have played a role in the train-test split, especially as we are training a low number of trees as part of our experiments too. We remember that the Decision Tree Classifier as a single tree tends to overfit on its training data and then gives us worse results for the test evaluation. The lower the number of trees, the more our model suffers from this, so this does influence our evaluation.  \n",
    "\n",
    "Another aspect may be the lack of scaling. If the data is unevenly distributed, has high cardinal features, or some features dominate others, then we get potentially worse results than we could if we employed scaling/oversampler."
   ]
  },
  {
   "cell_type": "markdown",
   "metadata": {},
   "source": [
    "# Exercise 7  \n",
    "**7.1.**  \n",
    ">For a Random Forest with 100 trees and a maximum depth of 14, create a bar chart showing the importance of each individual feature with regard to its contribution in random forest.  "
   ]
  },
  {
   "cell_type": "code",
   "execution_count": 27,
   "metadata": {},
   "outputs": [
    {
     "name": "stdout",
     "output_type": "stream",
     "text": [
      "Configuration: n_estimator = 100 , max_depth = 14 , random_state = 10\n",
      "Balanced Accuracy: 0.747804482054562\n",
      "Accuracy: 0.8924033522573669\n"
     ]
    },
    {
     "data": {
      "text/plain": [
       "Administrative             0.043786\n",
       "Administrative_Duration    0.057015\n",
       "Informational              0.017554\n",
       "Informational_Duration     0.027944\n",
       "ProductRelated             0.072421\n",
       "ProductRelated_Duration    0.088081\n",
       "BounceRates                0.055602\n",
       "ExitRates                  0.094681\n",
       "PageValues                 0.443762\n",
       "SpecialDay                 0.005170\n",
       "OperatingSystems           0.016524\n",
       "Browser                    0.018507\n",
       "Region                     0.028198\n",
       "TrafficType                0.030757\n",
       "dtype: float64"
      ]
     },
     "execution_count": 27,
     "metadata": {},
     "output_type": "execute_result"
    }
   ],
   "source": [
    "configurations7 = []\n",
    "evaluations7 = []\n",
    "df_results7 = pd.DataFrame()\n",
    "\n",
    "n_trees = 100\n",
    "tree_depth = 14\n",
    "seeds = 10\n",
    "\n",
    "clf = RandomForestClassifier(n_estimators = n_trees, max_depth = tree_depth, random_state=seeds)\n",
    "\n",
    "\n",
    "clf.fit(X_train, y_train)\n",
    "y_pred = clf.predict(X_test)\n",
    "print(\"Configuration: n_estimator =\", n_trees,\", max_depth =\", tree_depth, \", random_state =\", seeds)\n",
    "print(\"Balanced Accuracy:\", metrics.balanced_accuracy_score(y_test, y_pred))\n",
    "print(\"Accuracy:\", metrics.accuracy_score(y_test, y_pred))\n",
    "\n",
    "evaluations.append(results_function(y_test, y_pred))\n",
    "\n",
    "config = {'n_estimator':n_trees, 'max_depth':tree_depth, 'random_state':seeds}\n",
    "configurations.append(config)\n",
    "df_configs7 = pd.DataFrame(configurations[1:], columns=configurations[0])\n",
    "df_evaluations7 = pd.DataFrame(evaluations[1:], columns=('balanced_accuracy', 'accuracy'))\n",
    "df_results7 = df_results7.append(df_configs7.join(df_evaluations7), ignore_index=True)\n",
    "feature_imp = pd.Series(clf.feature_importances_,index=X.columns.values)\n",
    "#feature_imp.index = [column_headers]\n",
    "feature_imp\n"
   ]
  },
  {
   "cell_type": "code",
   "execution_count": 28,
   "metadata": {},
   "outputs": [
    {
     "data": {
      "image/png": "[encoded data removed]",
      "text/plain": [
       "<Figure size 432x288 with 1 Axes>"
      ]
     },
     "metadata": {},
     "output_type": "display_data"
    }
   ],
   "source": [
    "sns.barplot(x=feature_imp, y=feature_imp.index)\n",
    "plt.xlabel('Feature Importance Score')\n",
    "plt.title(\"Which is the most important feature?\")\n",
    "plt.show()"
   ]
  },
  {
   "cell_type": "markdown",
   "metadata": {},
   "source": [
    "**7.2.**  \n",
    ">Which is the most important feature?  \n",
    "\n",
    "The most important feature is PageValues with a score of 0.443762!"
   ]
  },
  {
   "cell_type": "markdown",
   "metadata": {},
   "source": [
    "**7.3.**  \n",
    ">Comment on the reliability of feature importance as implemented in *sklearn*'s Random Forest and propose an alternative.  \n",
    "- Feature importances can be quickly calculated when based on mean decrease in impurity, but are not reliable for features of high cardinality, according to sklearn.  \n",
    "- An alternative would be to scale to normalize the features properly beforehand.  \n",
    "- A more robust approach is suggested by sklearn, which would be the more costly calculation of feature importance based on feature permutation. These do not gravitate towards high-cardinality features."
   ]
  }
 ],
 "metadata": {
  "kernelspec": {
   "display_name": "Python 3.9.6 64-bit",
   "language": "python",
   "name": "python3"
  },
  "language_info": {
   "codemirror_mode": {
    "name": "ipython",
    "version": 3
   },
   "file_extension": ".py",
   "mimetype": "text/x-python",
   "name": "python",
   "nbconvert_exporter": "python",
   "pygments_lexer": "ipython3",
   "version": "3.9.6"
  },
  "orig_nbformat": 4,
  "vscode": {
   "interpreter": {
    "hash": "a74d994ec3f9911014f87bc9684b49ac3cac74c457a5041d78fcdef41a4721f6"
   }
  }
 },
 "nbformat": 4,
 "nbformat_minor": 2
}
